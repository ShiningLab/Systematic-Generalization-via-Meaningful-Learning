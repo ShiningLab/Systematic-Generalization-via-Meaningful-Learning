{
 "cells": [
  {
   "cell_type": "code",
   "execution_count": 2,
   "metadata": {},
   "outputs": [],
   "source": [
    "import os\n",
    "import json\n",
    "import random\n",
    "import numpy as np\n",
    "import matplotlib.pyplot as plt\n",
    "from collections import Counter"
   ]
  },
  {
   "cell_type": "code",
   "execution_count": 3,
   "metadata": {},
   "outputs": [],
   "source": [
    "RAW_TRAIN_SRC_PATH = 'train_src.txt'\n",
    "RAW_TRAIN_TAR_PATH = 'train_tar.txt'\n",
    "RAW_TEST_SRC_PATH = 'test_src.txt'\n",
    "RAW_TEST_TAR_PATH = 'test_tar.txt'\n",
    "\n",
    "PP_DATA_PATH = 'pp_data.json'\n",
    "VOCAB_PATH = 'vocab.json'\n",
    "\n",
    "B_DATA_PATH = os.path.join('B', PP_DATA_PATH) # with entity for B\n",
    "B_VOCAB_PATH = os.path.join('B', VOCAB_PATH)\n",
    "BC_DATA_PATH = os.path.join('BC', PP_DATA_PATH) # with entity for B and C\n",
    "BC_VOCAB_PATH = os.path.join('BC', VOCAB_PATH)\n",
    "BCR_DATA_PATH = os.path.join('BCR', PP_DATA_PATH) # with entity for B, C and R\n",
    "BCR_VOCAB_PATH = os.path.join('BCR', VOCAB_PATH)\n",
    "BCRY_DATA_PATH = os.path.join('BCRY', PP_DATA_PATH) # with entity for B, C, R and Y\n",
    "BCRY_VOCAB_PATH = os.path.join('BCRY', VOCAB_PATH)\n",
    "Colorless_DATA_PATH = os.path.join('colorless', PP_DATA_PATH) # with no entity in level 2 and 3\n",
    "Colorless_VOCAB_PATH = os.path.join('colorless', VOCAB_PATH)\n",
    "ALL_DATA_PATH = os.path.join('all', PP_DATA_PATH) # everything as usual\n",
    "ALL_VOCAB_PATH = os.path.join('all', VOCAB_PATH)"
   ]
  },
  {
   "cell_type": "code",
   "execution_count": 4,
   "metadata": {},
   "outputs": [
    {
     "name": "stdout",
     "output_type": "stream",
     "text": [
      "8922\n",
      "2231\n"
     ]
    }
   ],
   "source": [
    "# load raw data file\n",
    "def readTxt(path):\n",
    "    with open(path, 'r') as f:\n",
    "        return f.read().splitlines()\n",
    "\n",
    "raw_train_src_list = readTxt(RAW_TRAIN_SRC_PATH)\n",
    "raw_train_tar_list = readTxt(RAW_TRAIN_TAR_PATH)\n",
    "raw_test_src_list = readTxt(RAW_TEST_SRC_PATH)\n",
    "raw_test_tar_list = readTxt(RAW_TEST_TAR_PATH)\n",
    "raw_train_size = len(raw_train_src_list)\n",
    "raw_test_size = len(raw_test_src_list)\n",
    "print(raw_train_size)\n",
    "print(raw_test_size)"
   ]
  },
  {
   "cell_type": "code",
   "execution_count": 5,
   "metadata": {},
   "outputs": [],
   "source": [
    "# set up levels of color list\n",
    "B_list = ['blue', 'purple', 'navy']\n",
    "C_list = ['green', 'olive', 'lime']\n",
    "R_list = ['red', 'pink', 'orange']\n",
    "Y_list = ['yellow', 'brown', 'tan']\n",
    "colour_list = [B_list, C_list, R_list, Y_list]\n",
    "level_1_list = [l[0] for l in colour_list]\n",
    "level_2_list = [l[1] for l in colour_list]\n",
    "level_3_list = [l[2] for l in colour_list]"
   ]
  },
  {
   "cell_type": "code",
   "execution_count": 6,
   "metadata": {},
   "outputs": [
    {
     "name": "stdout",
     "output_type": "stream",
     "text": [
      "['blue', 'green', 'red', 'yellow']\n",
      "['purple', 'olive', 'pink', 'brown']\n",
      "['navy', 'lime', 'orange', 'tan']\n"
     ]
    }
   ],
   "source": [
    "print(level_1_list)\n",
    "print(level_2_list)\n",
    "print(level_3_list)"
   ]
  },
  {
   "cell_type": "code",
   "execution_count": 7,
   "metadata": {},
   "outputs": [],
   "source": [
    "# colour analysis\n",
    "# test\n",
    "level_1_count = len([seq for c in level_1_list for seq in raw_test_src_list if c in seq]) / raw_test_size\n",
    "level_12_count = level_1_count + len([seq for c in level_2_list for seq in raw_test_src_list if c in seq]) / raw_test_size\n",
    "level_123_count = level_12_count + len([seq for c in level_3_list for seq in raw_test_src_list if c in seq]) / raw_test_size\n"
   ]
  },
  {
   "cell_type": "code",
   "execution_count": 8,
   "metadata": {},
   "outputs": [
    {
     "data": {
      "image/png": "[encoded data removed]",
      "text/plain": [
       "<Figure size 400x300 with 1 Axes>"
      ]
     },
     "metadata": {
      "needs_background": "light"
     },
     "output_type": "display_data"
    }
   ],
   "source": [
    "level_count_list = [level_1_count, level_12_count, level_123_count]\n",
    "y_pos = np.arange(len(level_count_list))\n",
    "fig, ax = plt.subplots(figsize=(4, 3), dpi=100)\n",
    "plt.barh(y_pos, level_count_list, align='center', alpha=0.5)\n",
    "plt.yticks(y_pos, ['1', '2', '3'])\n",
    "vals = ax.get_xticks()\n",
    "ax.set_xticklabels(['{:,.0%}'.format(x) for x in vals])\n",
    "plt.ylabel('Color level')\n",
    "plt.xlabel('Percentage of occurrences in test set')\n",
    "plt.show()\n",
    "fig.savefig('test_color_level.png', format='png', dpi=300, bbox_inches = 'tight')"
   ]
  },
  {
   "cell_type": "code",
   "execution_count": 9,
   "metadata": {},
   "outputs": [],
   "source": [
    "# tokenization\n",
    "tk_train_src_list = [seq.split() for seq in raw_train_src_list]\n",
    "tk_train_tar_list = [seq.split() for seq in raw_train_tar_list]\n",
    "tk_test_src_list = [seq.split() for seq in raw_test_src_list]\n",
    "tk_test_tar_list = [seq.split() for seq in raw_test_tar_list]"
   ]
  },
  {
   "cell_type": "code",
   "execution_count": 10,
   "metadata": {},
   "outputs": [
    {
     "name": "stdout",
     "output_type": "stream",
     "text": [
      "['you', 'must', 'walk', 'through', 'the', 'yellow', 'room', 'to', 'get', 'to', 'the', 'lime', 'room']\n",
      "['F', '&', 'Y', 'F', 'C']\n",
      "['go', 'through', 'the', 'orange', 'room', 'to', 'the', 'green', 'room']\n",
      "['F', '&', 'R', 'F', 'C']\n"
     ]
    }
   ],
   "source": [
    "index = random.choice(np.arange(raw_train_size))\n",
    "print(tk_train_src_list[index])\n",
    "print(tk_train_tar_list[index])\n",
    "index = random.choice(np.arange(raw_test_size))\n",
    "print(tk_test_src_list[index])\n",
    "print(tk_test_tar_list[index])"
   ]
  },
  {
   "cell_type": "code",
   "execution_count": 11,
   "metadata": {},
   "outputs": [],
   "source": [
    "# token frequence dictionary\n",
    "src_c = Counter()\n",
    "\n",
    "for train_src in tk_train_src_list:\n",
    "    src_c.update(train_src)\n",
    "for test_src in tk_test_src_list:\n",
    "    src_c.update(test_src)\n",
    "\n",
    "tar_c = Counter()\n",
    "for train_tar in tk_train_tar_list:\n",
    "    tar_c.update(train_tar)\n",
    "for test_tar in tk_test_tar_list:\n",
    "    tar_c.update(test_tar)"
   ]
  },
  {
   "cell_type": "code",
   "execution_count": 12,
   "metadata": {},
   "outputs": [
    {
     "name": "stdout",
     "output_type": "stream",
     "text": [
      "193\n",
      "[('the', 19623), ('room', 18760), ('to', 11655), ('go', 6898), ('through', 5429), ('blue', 4226), ('green', 4148), ('red', 3920), ('yellow', 3502), ('move', 2565), ('and', 2309), ('or', 2004), ('into', 1934), ('get', 1752), ('enter', 1632), ('then', 1447), ('purple', 1284), ('pink', 1265), ('navy', 1254), ('olive', 1213), ('lime', 1213), ('orange', 1157), ('not', 1138), ('brown', 976), ('tan', 976), ('avoiding', 963), ('but', 881), ('that', 820), ('by', 724), ('reach', 681), ('without', 675), ('going', 609), ('area', 575), ('avoid', 565), ('chair', 540), ('robot', 535), ('while', 527), ('t', 515), ('box', 514), ('only', 505), ('rooms', 452), ('is', 445), ('do', 431), ('from', 427), ('pass', 384), ('a', 368), ('push', 358), ('isn', 335), ('large', 316), ('either', 310), ('travel', 305), ('via', 277), ('way', 272), ('first', 268), ('towards', 265), ('entering', 262), ('in', 254), ('you', 239), ('square', 235), ('small', 216), ('object', 216), ('using', 208), ('proceed', 206), ('up', 205), ('passing', 200), ('on', 199), ('it', 198), ('don', 180), ('of', 175), ('walk', 175), ('path', 162), ('which', 162), ('one', 162), ('take', 158), ('door', 155), ('rectangle', 155), ('thru', 150), ('any', 150), ('back', 141), ('rectangular', 140), ('colour', 136), ('goes', 125), ('until', 115), ('your', 112), ('toward', 106), ('straight', 104), ('continue', 103), ('are', 102), ('avoids', 100), ('navigate', 100), ('follow', 100), ('has', 93), ('head', 92), ('non', 90), ('exit', 87), ('there', 87), ('must', 78), ('end', 77), ('other', 76), ('make', 75), ('drive', 75), ('crossing', 75), ('away', 67), ('bring', 65), ('place', 62), ('taking', 62), ('black', 62), ('stop', 62), ('if', 53), ('sure', 50), ('use', 50), ('moves', 50), ('will', 50), ('lead', 50), ('when', 50), ('except', 50), ('big', 45), ('at', 40), ('find', 38), ('white', 37), ('color', 32), ('item', 31), ('instead', 31), ('over', 30), ('thing', 28), ('took', 28), ('passage', 28), ('them', 28), ('behind', 27), ('leave', 26), ('pick', 25), ('each', 25), ('time', 25), ('before', 25), ('never', 25), ('progress', 25), ('totally', 25), ('out', 25), ('throught', 25), ('isnt', 25), ('keep', 25), ('cross', 25), ('leads', 25), ('side', 25), ('all', 25), ('got', 25), ('stepping', 25), ('spaces', 25), ('once', 25), ('opposite', 25), ('c', 25), ('shortest', 25), ('always', 25), ('proceeding', 25), ('rectanglular', 25), ('being', 25), ('route', 25), ('gain', 25), ('access', 25), ('hallway', 25), ('takes', 25), ('though', 25), ('rom', 25), ('ends', 25), ('moving', 25), ('please', 25), ('this', 19), ('stay', 12), ('after', 12), ('retrieve', 12), ('i', 12), ('want', 12), ('middle', 12), ('right', 12), ('with', 12), ('return', 10), ('grab', 10), ('far', 10), ('wall', 10), ('come', 8), ('under', 7), ('locate', 7), ('goto', 5), ('down', 5), ('left', 5), ('dog', 5), ('backpack', 5), ('backto', 5), ('carry', 5), ('across', 5), ('front', 5), ('below', 5), ('violet', 3)]\n"
     ]
    }
   ],
   "source": [
    "src_freq_dict = dict(src_c)\n",
    "print(len(src_c))\n",
    "print(src_c.most_common())"
   ]
  },
  {
   "cell_type": "code",
   "execution_count": 13,
   "metadata": {},
   "outputs": [
    {
     "name": "stdout",
     "output_type": "stream",
     "text": [
      "11\n",
      "[('F', 18054), ('&', 10888), ('C', 6223), ('B', 6101), ('R', 5918), ('Y', 5030), ('G', 3987), ('!', 3987), ('|', 1970), ('X', 428), ('Z', 311)]\n"
     ]
    }
   ],
   "source": [
    "tar_freq_dict = dict(tar_c)\n",
    "print(len(tar_c))\n",
    "print(tar_c.most_common())"
   ]
  },
  {
   "cell_type": "code",
   "execution_count": 14,
   "metadata": {},
   "outputs": [
    {
     "name": "stdout",
     "output_type": "stream",
     "text": [
      "197\n"
     ]
    }
   ],
   "source": [
    "# generate source vocabulary index dictionary\n",
    "src_vocab_dict = dict()\n",
    "src_vocab_dict['<s>'] = 0\n",
    "src_vocab_dict['</s>'] = 1\n",
    "src_vocab_dict['<pad>'] = 2\n",
    "src_vocab_dict['<unk>'] = 3\n",
    "\n",
    "i = len(src_vocab_dict)\n",
    "\n",
    "for token in src_freq_dict:\n",
    "    src_vocab_dict[token] = i\n",
    "    i += 1\n",
    "\n",
    "print(len(src_vocab_dict))"
   ]
  },
  {
   "cell_type": "code",
   "execution_count": 15,
   "metadata": {},
   "outputs": [],
   "source": [
    "src_index_dict = {v:k for (k,v) in src_vocab_dict.items()}"
   ]
  },
  {
   "cell_type": "code",
   "execution_count": 16,
   "metadata": {},
   "outputs": [
    {
     "name": "stdout",
     "output_type": "stream",
     "text": [
      "14\n"
     ]
    }
   ],
   "source": [
    "# generate target vocabulary index dictionary\n",
    "tar_vocab_dict = dict()\n",
    "tar_vocab_dict['<s>'] = 0\n",
    "tar_vocab_dict['</s>'] = 1\n",
    "tar_vocab_dict['<pad>'] = 2\n",
    "\n",
    "i = len(tar_vocab_dict)\n",
    "\n",
    "for token in tar_freq_dict:\n",
    "    tar_vocab_dict[token] = i\n",
    "    i += 1\n",
    "\n",
    "print(len(tar_vocab_dict))"
   ]
  },
  {
   "cell_type": "code",
   "execution_count": 17,
   "metadata": {},
   "outputs": [],
   "source": [
    "tar_index_dict = {v:k for (k,v) in tar_vocab_dict.items()}"
   ]
  },
  {
   "cell_type": "code",
   "execution_count": 18,
   "metadata": {},
   "outputs": [],
   "source": [
    "# encoder inputs\n",
    "train_encoder_inputs, test_encoder_inputs = [], []\n",
    "\n",
    "for tk_train_src in tk_train_src_list:\n",
    "    train_encoder_inputs.append([src_vocab_dict[token] for token in tk_train_src])\n",
    "\n",
    "for tk_test_src in tk_test_src_list:\n",
    "    test_encoder_inputs.append([src_vocab_dict[token] for token in tk_test_src])"
   ]
  },
  {
   "cell_type": "code",
   "execution_count": 19,
   "metadata": {},
   "outputs": [],
   "source": [
    "# decoder inputs\n",
    "train_decoder_inputs, test_decoder_inputs = [], []\n",
    "\n",
    "for tk_train_tar in tk_train_tar_list:\n",
    "    train_decoder_inputs.append([tar_vocab_dict[token] for token in tk_train_tar])\n",
    "\n",
    "for tk_test_tar in tk_test_tar_list:\n",
    "    test_decoder_inputs.append([tar_vocab_dict[token] for token in tk_test_tar])"
   ]
  },
  {
   "cell_type": "code",
   "execution_count": 20,
   "metadata": {},
   "outputs": [],
   "source": [
    "# decoder targets\n",
    "train_decoder_targets = [id_tar_seq for id_tar_seq in train_decoder_inputs]\n",
    "test_decoder_targets = [id_tar_seq for id_tar_seq in test_decoder_inputs]"
   ]
  },
  {
   "cell_type": "code",
   "execution_count": 21,
   "metadata": {},
   "outputs": [
    {
     "name": "stdout",
     "output_type": "stream",
     "text": [
      "8922\n",
      "2231\n",
      "8922\n",
      "2231\n",
      "8922\n",
      "2231\n"
     ]
    }
   ],
   "source": [
    "print(len(train_encoder_inputs))\n",
    "print(len(test_encoder_inputs))\n",
    "print(len(train_decoder_inputs))\n",
    "print(len(test_decoder_inputs))\n",
    "print(len(train_decoder_targets))\n",
    "print(len(test_decoder_targets))"
   ]
  },
  {
   "cell_type": "code",
   "execution_count": 22,
   "metadata": {},
   "outputs": [],
   "source": [
    "train_dict = dict()\n",
    "test_dict = dict()\n",
    "\n",
    "train_dict['encoder_inputs'] = train_encoder_inputs\n",
    "train_dict['decoder_inputs'] = train_decoder_inputs\n",
    "train_dict['decoder_targets'] = train_decoder_targets\n",
    "\n",
    "test_dict['encoder_inputs'] = test_encoder_inputs\n",
    "test_dict['decoder_inputs'] = test_decoder_inputs\n",
    "test_dict['decoder_targets'] = test_decoder_targets"
   ]
  },
  {
   "cell_type": "markdown",
   "metadata": {},
   "source": [
    "# All"
   ]
  },
  {
   "cell_type": "code",
   "execution_count": 23,
   "metadata": {},
   "outputs": [
    {
     "name": "stdout",
     "output_type": "stream",
     "text": [
      "8922\n",
      "2231\n"
     ]
    }
   ],
   "source": [
    "# train_size\n",
    "print(len(train_encoder_inputs))\n",
    "print(len(test_encoder_inputs))"
   ]
  },
  {
   "cell_type": "code",
   "execution_count": 24,
   "metadata": {},
   "outputs": [],
   "source": [
    "# output as json\n",
    "pp_data = dict()\n",
    "pp_data['train_dict'] = train_dict\n",
    "pp_data['test_dict'] = test_dict\n",
    "\n",
    "vocab_dict = dict()\n",
    "vocab_dict['nl_vocab_dict'] = src_vocab_dict\n",
    "vocab_dict['fl_vocab_dict'] = tar_vocab_dict\n",
    "\n",
    "with open(ALL_DATA_PATH, 'w') as f:\n",
    "    json.dump(pp_data, f, ensure_ascii=False)\n",
    "\n",
    "with open(ALL_VOCAB_PATH, 'w') as f:\n",
    "    json.dump(vocab_dict, f, ensure_ascii=False)"
   ]
  },
  {
   "cell_type": "markdown",
   "metadata": {},
   "source": [
    "# Colorless"
   ]
  },
  {
   "cell_type": "code",
   "execution_count": 25,
   "metadata": {},
   "outputs": [],
   "source": [
    "B_list = ['purple', 'navy'] # blue\n",
    "C_list = ['olive', 'lime'] # green\n",
    "R_list = ['pink', 'orange'] # red\n",
    "Y_list = ['brown', 'tan'] # yellow\n",
    "\n",
    "for i in range(len(train_dict['encoder_inputs'])):\n",
    "    train_src = train_dict['encoder_inputs'][i]\n",
    "    for b in B_list:\n",
    "        if src_vocab_dict[b] in train_src:\n",
    "            idx_list = [i for i, t in enumerate(train_src) if t == src_vocab_dict[b]]\n",
    "            for idx in idx_list:\n",
    "                train_dict['encoder_inputs'][i][idx] = src_vocab_dict['blue']\n",
    "    for c in C_list:\n",
    "        if src_vocab_dict[c] in train_src:\n",
    "            idx_list = [i for i, t in enumerate(train_src) if t == src_vocab_dict[c]]\n",
    "            for idx in idx_list:\n",
    "                train_dict['encoder_inputs'][i][idx] = src_vocab_dict['green']\n",
    "    for r in R_list:\n",
    "        if src_vocab_dict[r] in train_src:\n",
    "            idx_list = [i for i, t in enumerate(train_src) if t == src_vocab_dict[r]]\n",
    "            for idx in idx_list:\n",
    "                train_dict['encoder_inputs'][i][idx] = src_vocab_dict['red']\n",
    "    for y in Y_list:\n",
    "        if src_vocab_dict[y] in train_src:\n",
    "            idx_list = [i for i, t in enumerate(train_src) if t == src_vocab_dict[y]]\n",
    "            for idx in idx_list:\n",
    "                train_dict['encoder_inputs'][i][idx] = src_vocab_dict['yellow']"
   ]
  },
  {
   "cell_type": "code",
   "execution_count": 26,
   "metadata": {},
   "outputs": [],
   "source": [
    "unique_encoder_inputs = []\n",
    "unique_decoder_inputs = []\n",
    "unique_decoder_targets = []\n",
    "for i in range(len(train_dict['encoder_inputs'])):\n",
    "    train_seq = train_dict['encoder_inputs'][i]\n",
    "    if train_seq not in unique_encoder_inputs:\n",
    "        unique_encoder_inputs.append(train_seq)\n",
    "        unique_decoder_inputs.append(train_dict['decoder_inputs'][i])\n",
    "        unique_decoder_targets.append(train_dict['decoder_targets'][i])"
   ]
  },
  {
   "cell_type": "code",
   "execution_count": 27,
   "metadata": {},
   "outputs": [],
   "source": [
    "train_dict['encoder_inputs'] = unique_encoder_inputs\n",
    "train_dict['decoder_inputs'] = unique_decoder_inputs\n",
    "train_dict['decoder_targets'] = unique_decoder_targets"
   ]
  },
  {
   "cell_type": "code",
   "execution_count": 28,
   "metadata": {},
   "outputs": [
    {
     "name": "stdout",
     "output_type": "stream",
     "text": [
      "enter the green room and exit into the yellow room\n",
      "F & C F Y\n"
     ]
    }
   ],
   "source": [
    "index = random.choice(np.arange(len(train_dict['encoder_inputs'])))\n",
    "en_input = train_dict['encoder_inputs'][index]\n",
    "de_target = train_dict['decoder_targets'][index]\n",
    "print(' '.join([src_index_dict[t] for t in en_input]))\n",
    "print(' '.join([tar_index_dict[t] for t in de_target]))"
   ]
  },
  {
   "cell_type": "code",
   "execution_count": 29,
   "metadata": {},
   "outputs": [
    {
     "data": {
      "text/plain": [
       "2118"
      ]
     },
     "execution_count": 29,
     "metadata": {},
     "output_type": "execute_result"
    }
   ],
   "source": [
    "len(train_dict['encoder_inputs'])"
   ]
  },
  {
   "cell_type": "code",
   "execution_count": 29,
   "metadata": {},
   "outputs": [],
   "source": [
    "# output as json\n",
    "pp_data = dict()\n",
    "pp_data['train_dict'] = train_dict\n",
    "pp_data['test_dict'] = test_dict\n",
    "\n",
    "vocab_dict = dict()\n",
    "vocab_dict['nl_vocab_dict'] = src_vocab_dict\n",
    "vocab_dict['fl_vocab_dict'] = tar_vocab_dict\n",
    "\n",
    "with open(Colorless_DATA_PATH, 'w') as f:\n",
    "    json.dump(pp_data, f, ensure_ascii=False)\n",
    "\n",
    "with open(Colorless_VOCAB_PATH, 'w') as f:\n",
    "    json.dump(vocab_dict, f, ensure_ascii=False)"
   ]
  },
  {
   "cell_type": "markdown",
   "metadata": {},
   "source": [
    "## B"
   ]
  },
  {
   "cell_type": "code",
   "execution_count": 30,
   "metadata": {},
   "outputs": [],
   "source": [
    "def addEntity(tk_en, tk_de):\n",
    "    idx_en_in = [src_vocab_dict[token] for token in tk_en]\n",
    "    idx_de_in = [tar_vocab_dict[token] for token in tk_de]\n",
    "    idx_de_out = [idx for idx in idx_de_in]\n",
    "    train_dict['encoder_inputs'].append(idx_en_in)\n",
    "    train_dict['decoder_inputs'].append(idx_de_in)\n",
    "    train_dict['decoder_targets'].append(idx_de_out)\n",
    "\n",
    "addEntity(['purple'], ['B'])\n",
    "addEntity(['navy'], ['B'])"
   ]
  },
  {
   "cell_type": "code",
   "execution_count": 31,
   "metadata": {},
   "outputs": [
    {
     "data": {
      "text/plain": [
       "2120"
      ]
     },
     "execution_count": 31,
     "metadata": {},
     "output_type": "execute_result"
    }
   ],
   "source": [
    "len(train_dict['encoder_inputs'])"
   ]
  },
  {
   "cell_type": "code",
   "execution_count": 32,
   "metadata": {},
   "outputs": [],
   "source": [
    "# output as json\n",
    "pp_data = dict()\n",
    "pp_data['train_dict'] = train_dict\n",
    "pp_data['test_dict'] = test_dict\n",
    "\n",
    "vocab_dict = dict()\n",
    "vocab_dict['nl_vocab_dict'] = src_vocab_dict\n",
    "vocab_dict['fl_vocab_dict'] = tar_vocab_dict\n",
    "\n",
    "with open(B_DATA_PATH, 'w') as f:\n",
    "    json.dump(pp_data, f, ensure_ascii=False)\n",
    "\n",
    "with open(B_VOCAB_PATH, 'w') as f:\n",
    "    json.dump(vocab_dict, f, ensure_ascii=False)"
   ]
  },
  {
   "cell_type": "markdown",
   "metadata": {},
   "source": [
    "## BC"
   ]
  },
  {
   "cell_type": "code",
   "execution_count": 33,
   "metadata": {},
   "outputs": [],
   "source": [
    "addEntity(['olive'], ['C'])\n",
    "addEntity(['lime'], ['C'])"
   ]
  },
  {
   "cell_type": "code",
   "execution_count": 34,
   "metadata": {},
   "outputs": [
    {
     "data": {
      "text/plain": [
       "2122"
      ]
     },
     "execution_count": 34,
     "metadata": {},
     "output_type": "execute_result"
    }
   ],
   "source": [
    "len(train_dict['encoder_inputs'])"
   ]
  },
  {
   "cell_type": "code",
   "execution_count": 35,
   "metadata": {},
   "outputs": [
    {
     "data": {
      "text/plain": [
       "{list}"
      ]
     },
     "execution_count": 35,
     "metadata": {},
     "output_type": "execute_result"
    }
   ],
   "source": [
    "set([type(seq) for seq in train_dict['decoder_targets']])"
   ]
  },
  {
   "cell_type": "code",
   "execution_count": 36,
   "metadata": {},
   "outputs": [],
   "source": [
    "# output as json\n",
    "pp_data = dict()\n",
    "pp_data['train_dict'] = train_dict\n",
    "pp_data['test_dict'] = test_dict\n",
    "\n",
    "vocab_dict = dict()\n",
    "vocab_dict['nl_vocab_dict'] = src_vocab_dict\n",
    "vocab_dict['fl_vocab_dict'] = tar_vocab_dict\n",
    "\n",
    "with open(BC_DATA_PATH, 'w') as f:\n",
    "    json.dump(pp_data, f, ensure_ascii=False)\n",
    "\n",
    "with open(BC_VOCAB_PATH, 'w') as f:\n",
    "    json.dump(vocab_dict, f, ensure_ascii=False)"
   ]
  },
  {
   "cell_type": "markdown",
   "metadata": {},
   "source": [
    "## BCR"
   ]
  },
  {
   "cell_type": "code",
   "execution_count": 37,
   "metadata": {},
   "outputs": [],
   "source": [
    "addEntity(['pink'], ['R'])\n",
    "addEntity(['orange'], ['R'])"
   ]
  },
  {
   "cell_type": "code",
   "execution_count": 38,
   "metadata": {},
   "outputs": [
    {
     "data": {
      "text/plain": [
       "2124"
      ]
     },
     "execution_count": 38,
     "metadata": {},
     "output_type": "execute_result"
    }
   ],
   "source": [
    "len(train_dict['encoder_inputs'])"
   ]
  },
  {
   "cell_type": "code",
   "execution_count": 39,
   "metadata": {},
   "outputs": [],
   "source": [
    "# output as json\n",
    "pp_data = dict()\n",
    "pp_data['train_dict'] = train_dict\n",
    "pp_data['test_dict'] = test_dict\n",
    "\n",
    "vocab_dict = dict()\n",
    "vocab_dict['nl_vocab_dict'] = src_vocab_dict\n",
    "vocab_dict['fl_vocab_dict'] = tar_vocab_dict\n",
    "\n",
    "with open(BCR_DATA_PATH, 'w') as f:\n",
    "    json.dump(pp_data, f, ensure_ascii=False)\n",
    "\n",
    "with open(BCR_VOCAB_PATH, 'w') as f:\n",
    "    json.dump(vocab_dict, f, ensure_ascii=False)"
   ]
  },
  {
   "cell_type": "markdown",
   "metadata": {},
   "source": [
    "## BCRY"
   ]
  },
  {
   "cell_type": "code",
   "execution_count": 40,
   "metadata": {},
   "outputs": [],
   "source": [
    "addEntity(['brown'], ['Y'])\n",
    "addEntity(['tan'], ['Y'])"
   ]
  },
  {
   "cell_type": "code",
   "execution_count": 41,
   "metadata": {},
   "outputs": [
    {
     "data": {
      "text/plain": [
       "2126"
      ]
     },
     "execution_count": 41,
     "metadata": {},
     "output_type": "execute_result"
    }
   ],
   "source": [
    "len(train_dict['encoder_inputs'])"
   ]
  },
  {
   "cell_type": "code",
   "execution_count": 42,
   "metadata": {},
   "outputs": [],
   "source": [
    "# output as json\n",
    "pp_data = dict()\n",
    "pp_data['train_dict'] = train_dict\n",
    "pp_data['test_dict'] = test_dict\n",
    "\n",
    "vocab_dict = dict()\n",
    "vocab_dict['nl_vocab_dict'] = src_vocab_dict\n",
    "vocab_dict['fl_vocab_dict'] = tar_vocab_dict\n",
    "\n",
    "with open(BCRY_DATA_PATH, 'w') as f:\n",
    "    json.dump(pp_data, f, ensure_ascii=False)\n",
    "\n",
    "with open(BCRY_VOCAB_PATH, 'w') as f:\n",
    "    json.dump(vocab_dict, f, ensure_ascii=False)"
   ]
  }
 ],
 "metadata": {
  "kernelspec": {
   "display_name": "Python 3",
   "language": "python",
   "name": "python3"
  },
  "language_info": {
   "codemirror_mode": {
    "name": "ipython",
    "version": 3
   },
   "file_extension": ".py",
   "mimetype": "text/x-python",
   "name": "python",
   "nbconvert_exporter": "python",
   "pygments_lexer": "ipython3",
   "version": "3.7.6"
  }
 },
 "nbformat": 4,
 "nbformat_minor": 2
}
