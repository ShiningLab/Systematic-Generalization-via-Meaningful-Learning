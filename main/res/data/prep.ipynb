{
 "cells": [
  {
   "cell_type": "markdown",
   "id": "21ecabcc",
   "metadata": {},
   "source": [
    "# Data Preparation\n",
    "1. SCAN"
   ]
  },
  {
   "cell_type": "code",
   "execution_count": 21,
   "id": "13956097",
   "metadata": {},
   "outputs": [
    {
     "name": "stdout",
     "output_type": "stream",
     "text": [
      "The autoreload extension is already loaded. To reload it, use:\n",
      "  %reload_ext autoreload\n"
     ]
    }
   ],
   "source": [
    "import os\n",
    "import random\n",
    "from tqdm import tqdm, trange\n",
    "from collections import Counter\n",
    "\n",
    "import numpy as np\n",
    "\n",
    "import utils\n",
    "\n",
    "%load_ext autoreload \n",
    "%autoreload 2\n",
    "%config Completer.use_jedi = False"
   ]
  },
  {
   "cell_type": "markdown",
   "id": "b702b2eb",
   "metadata": {},
   "source": [
    "# SCAN"
   ]
  },
  {
   "cell_type": "code",
   "execution_count": 22,
   "id": "97440084",
   "metadata": {},
   "outputs": [],
   "source": [
    "MAX_NUM_PRIMITIVE = 10\n",
    "TRAIN_SIZE_RATE = 0.8\n",
    "OVER_SAMPLING = 1 # batch size"
   ]
  },
  {
   "cell_type": "code",
   "execution_count": 24,
   "id": "c51ae6c9",
   "metadata": {},
   "outputs": [],
   "source": [
    "NUM_PRIMITIVE = 2\n",
    "primitive_xs = ['jump', 'run', 'look', 'walk']\n",
    "primitive_ys = ['I_JUMP', 'I_RUN', 'I_LOOK', 'I_WALK']\n",
    "extra_primitive_xs = primitive_xs[:NUM_PRIMITIVE]\n",
    "extra_primitive_ys = primitive_ys[:NUM_PRIMITIVE]"
   ]
  },
  {
   "cell_type": "markdown",
   "id": "d32dbc38",
   "metadata": {},
   "source": [
    "## Input"
   ]
  },
  {
   "cell_type": "code",
   "execution_count": 3,
   "id": "68ff1f4b",
   "metadata": {},
   "outputs": [],
   "source": [
    "# I/o\n",
    "RAW = 'raw'\n",
    "SCAN = os.path.join(RAW, 'scan')\n",
    "SCAN_RAW_TXT = os.path.join(SCAN, 'tasks.txt')\n",
    "\n",
    "EXP1 = 'exp1'\n",
    "EXP2 = 'exp2'\n",
    "EXP3 = 'exp3'\n",
    "EXP4 = 'exp4'\n",
    "EXP5 = 'exp5'"
   ]
  },
  {
   "cell_type": "code",
   "execution_count": 4,
   "id": "a27e39eb",
   "metadata": {},
   "outputs": [
    {
     "name": "stdout",
     "output_type": "stream",
     "text": [
      "20910\n"
     ]
    }
   ],
   "source": [
    "scan_raw_data = utils.load_txt_to_list(SCAN_RAW_TXT)\n",
    "len(scan_raw_data)\n",
    "scan_raw_xs = list(set(scan_raw_data))\n",
    "print(len(scan_raw_data))"
   ]
  },
  {
   "cell_type": "code",
   "execution_count": 5,
   "id": "378e384a",
   "metadata": {},
   "outputs": [
    {
     "data": {
      "text/plain": [
       "'IN: look left after run left thrice OUT: I_TURN_LEFT I_RUN I_TURN_LEFT I_RUN I_TURN_LEFT I_RUN I_TURN_LEFT I_LOOK'"
      ]
     },
     "execution_count": 5,
     "metadata": {},
     "output_type": "execute_result"
    }
   ],
   "source": [
    "random.choice(scan_raw_data)"
   ]
  },
  {
   "cell_type": "code",
   "execution_count": 6,
   "id": "c6666828",
   "metadata": {},
   "outputs": [],
   "source": [
    "scan_raw_xs, scan_raw_ys = utils.scan_parser(scan_raw_data)"
   ]
  },
  {
   "cell_type": "code",
   "execution_count": 7,
   "id": "1877d9d9",
   "metadata": {},
   "outputs": [
    {
     "name": "stdout",
     "output_type": "stream",
     "text": [
      "11604 / 20910\n",
      "['look', 'opposite', 'left', 'twice', 'and', 'run', 'around', 'left', 'thrice']\n",
      "['I_TURN_LEFT', 'I_TURN_LEFT', 'I_LOOK', 'I_TURN_LEFT', 'I_TURN_LEFT', 'I_LOOK', 'I_TURN_LEFT', 'I_RUN', 'I_TURN_LEFT', 'I_RUN', 'I_TURN_LEFT', 'I_RUN', 'I_TURN_LEFT', 'I_RUN', 'I_TURN_LEFT', 'I_RUN', 'I_TURN_LEFT', 'I_RUN', 'I_TURN_LEFT', 'I_RUN', 'I_TURN_LEFT', 'I_RUN', 'I_TURN_LEFT', 'I_RUN', 'I_TURN_LEFT', 'I_RUN', 'I_TURN_LEFT', 'I_RUN', 'I_TURN_LEFT', 'I_RUN']\n"
     ]
    }
   ],
   "source": [
    "idx = random.choice(range(len(scan_raw_data)))\n",
    "print(idx, '/', len(scan_raw_data))\n",
    "print(scan_raw_xs[idx])\n",
    "print(scan_raw_ys[idx])"
   ]
  },
  {
   "cell_type": "code",
   "execution_count": 8,
   "id": "6a888a9e",
   "metadata": {},
   "outputs": [
    {
     "data": {
      "text/plain": [
       "'look opposite left twice and run around left thrice'"
      ]
     },
     "execution_count": 8,
     "metadata": {},
     "output_type": "execute_result"
    }
   ],
   "source": [
    "' '.join(scan_raw_xs[idx])"
   ]
  },
  {
   "cell_type": "code",
   "execution_count": 9,
   "id": "90c6492d",
   "metadata": {},
   "outputs": [
    {
     "data": {
      "text/plain": [
       "'I_TURN_LEFT I_TURN_LEFT I_LOOK I_TURN_LEFT I_TURN_LEFT I_LOOK I_TURN_LEFT I_RUN I_TURN_LEFT I_RUN I_TURN_LEFT I_RUN I_TURN_LEFT I_RUN I_TURN_LEFT I_RUN I_TURN_LEFT I_RUN I_TURN_LEFT I_RUN I_TURN_LEFT I_RUN I_TURN_LEFT I_RUN I_TURN_LEFT I_RUN I_TURN_LEFT I_RUN I_TURN_LEFT I_RUN'"
      ]
     },
     "execution_count": 9,
     "metadata": {},
     "output_type": "execute_result"
    }
   ],
   "source": [
    "' '.join(scan_raw_ys[idx])"
   ]
  },
  {
   "cell_type": "code",
   "execution_count": 10,
   "id": "82cb61ad",
   "metadata": {},
   "outputs": [
    {
     "name": "stdout",
     "output_type": "stream",
     "text": [
      "[('right', 18405), ('left', 18405), ('thrice', 13906), ('twice', 13906), ('opposite', 12270), ('around', 12270), ('after', 10404), ('and', 10404), ('walk', 8589), ('run', 8589), ('look', 8589), ('jump', 8589), ('turn', 7362)]\n"
     ]
    }
   ],
   "source": [
    "# source vocabulary\n",
    "scan_src_counter = Counter()\n",
    "for x in scan_raw_xs:\n",
    "    scan_src_counter.update(x)\n",
    "    \n",
    "print(scan_src_counter.most_common())"
   ]
  },
  {
   "cell_type": "code",
   "execution_count": 11,
   "id": "5ab0d0c6",
   "metadata": {},
   "outputs": [
    {
     "name": "stdout",
     "output_type": "stream",
     "text": [
      "[('I_TURN_RIGHT', 85890), ('I_TURN_LEFT', 85890), ('I_RUN', 31902), ('I_WALK', 31902), ('I_LOOK', 31902), ('I_JUMP', 31902)]\n"
     ]
    }
   ],
   "source": [
    "# target vocabulary\n",
    "scan_tgt_counter = Counter()\n",
    "for y in scan_raw_ys:\n",
    "    scan_tgt_counter.update(y)\n",
    "    \n",
    "print(scan_tgt_counter.most_common())"
   ]
  },
  {
   "cell_type": "markdown",
   "id": "b025ef53",
   "metadata": {},
   "source": [
    "## Primitive Standardization\n",
    "+ run\n",
    "+ jump\n",
    "+ look\n",
    "+ walk"
   ]
  },
  {
   "cell_type": "code",
   "execution_count": 12,
   "id": "2cba4076",
   "metadata": {},
   "outputs": [],
   "source": [
    "verbs = ['run', 'jump', 'look', 'walk', 'turn']"
   ]
  },
  {
   "cell_type": "code",
   "execution_count": 13,
   "id": "d23986ad",
   "metadata": {},
   "outputs": [],
   "source": [
    "max_num_primitives = 0\n",
    "for x in scan_raw_xs:\n",
    "    c = Counter()\n",
    "    c.update(x)\n",
    "    m = 0\n",
    "    for k in c:\n",
    "        if k in verbs:\n",
    "            m += 1\n",
    "    max_num_primitives = max(max_num_primitives, m)"
   ]
  },
  {
   "cell_type": "code",
   "execution_count": 14,
   "id": "6f7741f7",
   "metadata": {},
   "outputs": [
    {
     "data": {
      "text/plain": [
       "2"
      ]
     },
     "execution_count": 14,
     "metadata": {},
     "output_type": "execute_result"
    }
   ],
   "source": [
    "max_num_primitives"
   ]
  },
  {
   "cell_type": "code",
   "execution_count": 15,
   "id": "dbb013e7",
   "metadata": {},
   "outputs": [
    {
     "name": "stdout",
     "output_type": "stream",
     "text": [
      "['look'] -> ['I_LOOK']\n",
      "['jump'] -> ['I_JUMP']\n",
      "['run'] -> ['I_RUN']\n",
      "['walk'] -> ['I_WALK']\n"
     ]
    }
   ],
   "source": [
    "# 1. remove primitive pair\n",
    "# ['look'] -> ['I_LOOK']\n",
    "# ['jump'] -> ['I_JUMP']\n",
    "# ['run'] -> ['I_RUN']\n",
    "# ['walk'] -> ['I_WALK']\n",
    "# 2. split lv1 and lv2 samples\n",
    "max_num_primitives = 0\n",
    "scan_l1_idxes, scan_l2_idxes = [], []\n",
    "for i, (x, y) in enumerate(zip(scan_raw_xs, scan_raw_ys)):\n",
    "    c = Counter()\n",
    "    c.update(x)\n",
    "    m = 0\n",
    "    for k in c:\n",
    "        if k in verbs:\n",
    "            m += 1\n",
    "    max_num_primitives = max(max_num_primitives, m)\n",
    "    if m == 1:\n",
    "        if len(x) > 1:\n",
    "            scan_l1_idxes.append(i)\n",
    "        else:\n",
    "            print(x, '->', y)\n",
    "    elif m == 2:\n",
    "        scan_l2_idxes.append(i)\n",
    "    else:\n",
    "        print(x)"
   ]
  },
  {
   "cell_type": "code",
   "execution_count": 16,
   "id": "fb4db2a7",
   "metadata": {},
   "outputs": [
    {
     "data": {
      "text/plain": [
       "4274"
      ]
     },
     "execution_count": 16,
     "metadata": {},
     "output_type": "execute_result"
    }
   ],
   "source": [
    "len(scan_l1_idxes)"
   ]
  },
  {
   "cell_type": "code",
   "execution_count": 17,
   "id": "f7a54d3d",
   "metadata": {},
   "outputs": [
    {
     "data": {
      "text/plain": [
       "16632"
      ]
     },
     "execution_count": 17,
     "metadata": {},
     "output_type": "execute_result"
    }
   ],
   "source": [
    "len(scan_l2_idxes)"
   ]
  },
  {
   "cell_type": "code",
   "execution_count": 18,
   "id": "1ba70f7c",
   "metadata": {},
   "outputs": [
    {
     "data": {
      "text/plain": [
       "20910"
      ]
     },
     "execution_count": 18,
     "metadata": {},
     "output_type": "execute_result"
    }
   ],
   "source": [
    "len(scan_raw_xs)"
   ]
  },
  {
   "cell_type": "code",
   "execution_count": 19,
   "id": "efad53d6",
   "metadata": {},
   "outputs": [
    {
     "data": {
      "text/plain": [
       "1.0"
      ]
     },
     "execution_count": 19,
     "metadata": {},
     "output_type": "execute_result"
    }
   ],
   "source": [
    "(len(scan_l1_idxes) + len(scan_l2_idxes) + 4) / len(scan_raw_xs)"
   ]
  },
  {
   "cell_type": "markdown",
   "id": "b1a0d8f5",
   "metadata": {},
   "source": [
    "## Full Data"
   ]
  },
  {
   "cell_type": "code",
   "execution_count": 29,
   "id": "899c4da6",
   "metadata": {},
   "outputs": [],
   "source": [
    "primitives = ['jump', '']"
   ]
  },
  {
   "cell_type": "code",
   "execution_count": 30,
   "id": "f693ffa7",
   "metadata": {},
   "outputs": [
    {
     "name": "stdout",
     "output_type": "stream",
     "text": [
      "20906\n",
      "20906\n"
     ]
    }
   ],
   "source": [
    "scan_raw_l12_xs = np.array(scan_raw_xs, dtype=object)[scan_l1_idxes + scan_l2_idxes].tolist()\n",
    "scan_raw_l12_ys = np.array(scan_raw_ys, dtype=object)[scan_l1_idxes + scan_l2_idxes].tolist()\n",
    "print(len(scan_raw_l12_xs))\n",
    "print(len(scan_raw_l12_ys))"
   ]
  },
  {
   "cell_type": "code",
   "execution_count": 31,
   "id": "e16e0162",
   "metadata": {},
   "outputs": [
    {
     "data": {
      "text/plain": [
       "2"
      ]
     },
     "execution_count": 31,
     "metadata": {},
     "output_type": "execute_result"
    }
   ],
   "source": [
    "scan_raw_l12_src_lens = [len(x) for x in scan_raw_l12_xs]\n",
    "min(scan_raw_l12_src_lens)"
   ]
  },
  {
   "cell_type": "code",
   "execution_count": 32,
   "id": "984d116e",
   "metadata": {},
   "outputs": [
    {
     "name": "stdout",
     "output_type": "stream",
     "text": [
      "walk around right twice after walk twice\n",
      "I_WALK I_WALK I_TURN_RIGHT I_WALK I_TURN_RIGHT I_WALK I_TURN_RIGHT I_WALK I_TURN_RIGHT I_WALK I_TURN_RIGHT I_WALK I_TURN_RIGHT I_WALK I_TURN_RIGHT I_WALK I_TURN_RIGHT I_WALK\n"
     ]
    }
   ],
   "source": [
    "# take a look\n",
    "idx = random.choice(range(len(scan_raw_l12_ys)))\n",
    "print(' '.join(scan_raw_l12_xs[idx]))\n",
    "print(' '.join(scan_raw_l12_ys[idx]))"
   ]
  },
  {
   "cell_type": "code",
   "execution_count": 33,
   "id": "2cc2a87b",
   "metadata": {},
   "outputs": [
    {
     "data": {
      "text/plain": [
       "10"
      ]
     },
     "execution_count": 33,
     "metadata": {},
     "output_type": "execute_result"
    }
   ],
   "source": [
    "MAX_NUM_PRIMITIVE"
   ]
  },
  {
   "cell_type": "code",
   "execution_count": 34,
   "id": "d2bc0050",
   "metadata": {},
   "outputs": [
    {
     "name": "stderr",
     "output_type": "stream",
     "text": [
      "100%|██████████| 10/10 [00:00<00:00, 36.49it/s]\n"
     ]
    }
   ],
   "source": [
    "scan_l12_xs = scan_raw_l12_xs.copy()\n",
    "scan_l12_ys = scan_raw_l12_ys.copy()\n",
    "\n",
    "extra_data = set()\n",
    "\n",
    "for n in trange(MAX_NUM_PRIMITIVE):\n",
    "    for p in primitives:\n",
    "        new_p = p + '_{}'.format(n)\n",
    "        for x, y in zip(scan_raw_l12_xs, scan_raw_l12_ys):\n",
    "            if p in x:\n",
    "                new_x = ' '.join(x).replace(p, new_p).split()\n",
    "                scan_l12_xs.append(new_x)\n",
    "                scan_l12_ys.append(y)\n",
    "                extra_data.add(' '.join(new_x))"
   ]
  },
  {
   "cell_type": "code",
   "execution_count": 36,
   "id": "c7845956",
   "metadata": {},
   "outputs": [
    {
     "name": "stdout",
     "output_type": "stream",
     "text": [
      "97966\n",
      "97966\n"
     ]
    }
   ],
   "source": [
    "print(len(scan_l12_xs))\n",
    "print(len(scan_l12_ys))"
   ]
  },
  {
   "cell_type": "code",
   "execution_count": 37,
   "id": "7f65b145",
   "metadata": {},
   "outputs": [],
   "source": [
    "# source vocabulary\n",
    "scan_src_counter = Counter()\n",
    "for x in scan_l12_xs:\n",
    "    scan_src_counter.update(x)"
   ]
  },
  {
   "cell_type": "code",
   "execution_count": 38,
   "id": "b5494e3e",
   "metadata": {},
   "outputs": [
    {
     "name": "stdout",
     "output_type": "stream",
     "text": [
      "24\n"
     ]
    }
   ],
   "source": [
    "# soruce vocabulary dictionary\n",
    "src_vocab2idx_dict = dict()\n",
    "src_vocab2idx_dict['<pad>'] = 0 # to pad sequence length\n",
    "\n",
    "i = len(src_vocab2idx_dict)\n",
    "for token in scan_src_counter:\n",
    "    src_vocab2idx_dict[token] = i\n",
    "    i += 1\n",
    "\n",
    "print(len(src_vocab2idx_dict))"
   ]
  },
  {
   "cell_type": "code",
   "execution_count": 39,
   "id": "94798bd6",
   "metadata": {},
   "outputs": [],
   "source": [
    "# target vocabulary\n",
    "scan_tgt_counter = Counter()\n",
    "for y in scan_l12_ys:\n",
    "    scan_tgt_counter.update(y)"
   ]
  },
  {
   "cell_type": "code",
   "execution_count": 40,
   "id": "2beae248",
   "metadata": {},
   "outputs": [
    {
     "name": "stdout",
     "output_type": "stream",
     "text": [
      "9\n"
     ]
    }
   ],
   "source": [
    "# target vocabulary dictionary\n",
    "tgt_vocab2idx_dict = dict()\n",
    "tgt_vocab2idx_dict['<pad>'] = 0 # to pad sequence length\n",
    "tgt_vocab2idx_dict['<s>'] = 1 # to mark the start of a sequence\n",
    "tgt_vocab2idx_dict['</s>'] = 2 # to mark the end of a sequence\n",
    "\n",
    "i = len(tgt_vocab2idx_dict)\n",
    "for token in scan_tgt_counter:\n",
    "    tgt_vocab2idx_dict[token] = i\n",
    "    i += 1\n",
    "\n",
    "print(len(tgt_vocab2idx_dict))"
   ]
  },
  {
   "cell_type": "code",
   "execution_count": 41,
   "id": "16e9cba6",
   "metadata": {},
   "outputs": [],
   "source": [
    "vocab_dict = dict()\n",
    "vocab_dict['src'] = src_vocab2idx_dict\n",
    "vocab_dict['tgt'] = tgt_vocab2idx_dict"
   ]
  },
  {
   "cell_type": "markdown",
   "id": "75781a7f",
   "metadata": {},
   "source": [
    "###  Train Test Split"
   ]
  },
  {
   "cell_type": "code",
   "execution_count": 42,
   "id": "95247ff8",
   "metadata": {},
   "outputs": [],
   "source": [
    "extra_primitive_xs = ['jump']\n",
    "extra_primitive_ys = ['I_JUMP']"
   ]
  },
  {
   "cell_type": "code",
   "execution_count": 43,
   "id": "091bcd8b",
   "metadata": {},
   "outputs": [
    {
     "data": {
      "text/plain": [
       "['jump_0',\n",
       " 'jump_1',\n",
       " 'jump_2',\n",
       " 'jump_3',\n",
       " 'jump_4',\n",
       " 'jump_5',\n",
       " 'jump_6',\n",
       " 'jump_7',\n",
       " 'jump_8',\n",
       " 'jump_9']"
      ]
     },
     "execution_count": 43,
     "metadata": {},
     "output_type": "execute_result"
    }
   ],
   "source": [
    "new_primitives = [p + '_{}'.format(i) for i in range(MAX_NUM_PRIMITIVE) for p in extra_primitive_xs]\n",
    "new_primitives"
   ]
  },
  {
   "cell_type": "code",
   "execution_count": 44,
   "id": "9953baee",
   "metadata": {},
   "outputs": [],
   "source": [
    "train_idxes = []\n",
    "test_idxes = []\n",
    "for i, x in enumerate(scan_l12_xs):\n",
    "    if set(new_primitives) & set(x):\n",
    "        test_idxes.append(i)\n",
    "    else:\n",
    "        train_idxes.append(i)"
   ]
  },
  {
   "cell_type": "code",
   "execution_count": 45,
   "id": "e418d704",
   "metadata": {},
   "outputs": [
    {
     "data": {
      "text/plain": [
       "(20906, 77060)"
      ]
     },
     "execution_count": 45,
     "metadata": {},
     "output_type": "execute_result"
    }
   ],
   "source": [
    "(len(train_idxes), len(test_idxes))"
   ]
  },
  {
   "cell_type": "code",
   "execution_count": 46,
   "id": "e890f385",
   "metadata": {},
   "outputs": [
    {
     "name": "stdout",
     "output_type": "stream",
     "text": [
      "20906\n",
      "20906\n"
     ]
    }
   ],
   "source": [
    "train_xs = np.array(scan_l12_xs, dtype=object)[train_idxes].tolist()\n",
    "train_ys = np.array(scan_l12_ys, dtype=object)[train_idxes].tolist()\n",
    "print(len(train_xs))\n",
    "print(len(train_ys))"
   ]
  },
  {
   "cell_type": "code",
   "execution_count": 47,
   "id": "5d50534d",
   "metadata": {},
   "outputs": [
    {
     "name": "stdout",
     "output_type": "stream",
     "text": [
      "77060\n",
      "77060\n"
     ]
    }
   ],
   "source": [
    "test_xs = np.array(scan_l12_xs, dtype=object)[test_idxes].tolist()\n",
    "test_ys = np.array(scan_l12_ys, dtype=object)[test_idxes].tolist()\n",
    "print(len(test_xs))\n",
    "print(len(test_ys))"
   ]
  },
  {
   "cell_type": "code",
   "execution_count": 48,
   "id": "a6848db8",
   "metadata": {},
   "outputs": [],
   "source": [
    "test_dict = {}\n",
    "test_dict['xs'] = test_xs\n",
    "test_dict['ys'] = test_ys"
   ]
  },
  {
   "cell_type": "markdown",
   "id": "1b1d43e7",
   "metadata": {},
   "source": [
    "### Experiment 1"
   ]
  },
  {
   "cell_type": "code",
   "execution_count": 49,
   "id": "4bace764",
   "metadata": {},
   "outputs": [
    {
     "data": {
      "text/plain": [
       "1"
      ]
     },
     "execution_count": 49,
     "metadata": {},
     "output_type": "execute_result"
    }
   ],
   "source": [
    "OVER_SAMPLING"
   ]
  },
  {
   "cell_type": "code",
   "execution_count": 50,
   "id": "584dc4f1",
   "metadata": {},
   "outputs": [],
   "source": [
    "data_dict = dict()\n",
    "data_dict['test'] = test_dict\n",
    "\n",
    "for t in ['0', '5', '10']:\n",
    "    train_dict = {}\n",
    "    new_train_xs = train_xs.copy()\n",
    "    new_train_ys = train_ys.copy()\n",
    "    for i in range(int(t)):\n",
    "        for p_x, p_y in zip(extra_primitive_xs, extra_primitive_ys):\n",
    "            new_p_x = p_x + '_{}'.format(i)\n",
    "            new_train_xs += [[new_p_x]] * OVER_SAMPLING\n",
    "            new_train_ys += [[p_y]] * OVER_SAMPLING\n",
    "    new_train_xs += [[x] for x in extra_primitive_xs]\n",
    "    new_train_ys += [[y] for y in extra_primitive_ys]\n",
    "    train_dict['xs'] = new_train_xs\n",
    "    train_dict['ys'] = new_train_ys\n",
    "    data_dict[t] = train_dict"
   ]
  },
  {
   "cell_type": "code",
   "execution_count": 51,
   "id": "4e717c8b",
   "metadata": {},
   "outputs": [
    {
     "name": "stdout",
     "output_type": "stream",
     "text": [
      "test 77060\n",
      "0 20907\n",
      "5 20912\n",
      "10 20917\n"
     ]
    }
   ],
   "source": [
    "for k in data_dict.keys():\n",
    "    print(k, len(data_dict[k]['xs']))"
   ]
  },
  {
   "cell_type": "code",
   "execution_count": 52,
   "id": "49bbee0d",
   "metadata": {},
   "outputs": [],
   "source": [
    "# save output as json\n",
    "out_path = os.path.join(EXP1, 'scan_l12')\n",
    "if not os.path.exists(out_path): os.makedirs(out_path)\n",
    "\n",
    "utils.save_json(os.path.join(out_path, 'data.json'), data_dict)\n",
    "utils.save_json(os.path.join(out_path, 'vocab.json'), vocab_dict)"
   ]
  },
  {
   "cell_type": "markdown",
   "id": "48fbf217",
   "metadata": {},
   "source": [
    "### Experiment 2"
   ]
  },
  {
   "cell_type": "code",
   "execution_count": 53,
   "id": "b3676406",
   "metadata": {},
   "outputs": [
    {
     "data": {
      "text/plain": [
       "1"
      ]
     },
     "execution_count": 53,
     "metadata": {},
     "output_type": "execute_result"
    }
   ],
   "source": [
    "OVER_SAMPLING"
   ]
  },
  {
   "cell_type": "code",
   "execution_count": 54,
   "id": "fbf865ac",
   "metadata": {},
   "outputs": [],
   "source": [
    "data_dict = dict()\n",
    "data_dict['test'] = test_dict\n",
    "\n",
    "for t in ['0', '5', '10']:\n",
    "    train_dict = {}\n",
    "    new_train_xs = train_xs.copy()\n",
    "    new_train_ys = train_ys.copy()\n",
    "    for i in range(int(t)):\n",
    "        for p_x, p_y in zip(extra_primitive_xs, extra_primitive_ys):\n",
    "            new_p_x = p_x + '_{}'.format(i)\n",
    "            new_train_xs += [[new_p_x]] * OVER_SAMPLING\n",
    "            new_train_ys += [[p_y]] * OVER_SAMPLING\n",
    "    train_dict['xs'] = new_train_xs\n",
    "    train_dict['ys'] = new_train_ys\n",
    "    data_dict[t] = train_dict"
   ]
  },
  {
   "cell_type": "code",
   "execution_count": 55,
   "id": "f3e7c16f",
   "metadata": {},
   "outputs": [
    {
     "name": "stdout",
     "output_type": "stream",
     "text": [
      "test 77060\n",
      "0 20906\n",
      "5 20911\n",
      "10 20916\n"
     ]
    }
   ],
   "source": [
    "for k in data_dict.keys():\n",
    "    print(k, len(data_dict[k]['xs']))"
   ]
  },
  {
   "cell_type": "code",
   "execution_count": 58,
   "id": "13db3748",
   "metadata": {},
   "outputs": [
    {
     "name": "stderr",
     "output_type": "stream",
     "text": [
      "100%|██████████| 20916/20916 [00:10<00:00, 2011.75it/s]"
     ]
    },
    {
     "name": "stdout",
     "output_type": "stream",
     "text": [
      "['jump_0']\n",
      "['jump_1']\n",
      "['jump_2']\n",
      "['jump_3']\n",
      "['jump_4']\n",
      "['jump_5']\n",
      "['jump_6']\n",
      "['jump_7']\n",
      "['jump_8']\n",
      "['jump_9']\n"
     ]
    },
    {
     "name": "stderr",
     "output_type": "stream",
     "text": [
      "\n"
     ]
    }
   ],
   "source": [
    "for x in tqdm(data_dict['10']['xs']):\n",
    "    if x not in data_dict['0']['xs']:\n",
    "        print(x)"
   ]
  },
  {
   "cell_type": "code",
   "execution_count": 59,
   "id": "71118d13",
   "metadata": {},
   "outputs": [],
   "source": [
    "# save output as json\n",
    "out_path = os.path.join(EXP2, 'scan_l12')\n",
    "if not os.path.exists(out_path): os.makedirs(out_path)\n",
    "\n",
    "utils.save_json(os.path.join(out_path, 'data.json'), data_dict)\n",
    "utils.save_json(os.path.join(out_path, 'vocab.json'), vocab_dict)"
   ]
  },
  {
   "cell_type": "markdown",
   "id": "eed8c3f1",
   "metadata": {},
   "source": [
    "### Experiment 3"
   ]
  },
  {
   "cell_type": "code",
   "execution_count": 60,
   "id": "c267f0ce",
   "metadata": {},
   "outputs": [],
   "source": [
    "extra_primitive_x = '{} left'\n",
    "extra_primitive_y = 'I_TURN_LEFT {}'"
   ]
  },
  {
   "cell_type": "code",
   "execution_count": 62,
   "id": "45e641fa",
   "metadata": {},
   "outputs": [],
   "source": [
    "data_dict = dict()\n",
    "data_dict['test'] = test_dict\n",
    "\n",
    "for t in ['0', '5', '10']:\n",
    "    train_dict = {}\n",
    "    new_train_xs = train_xs.copy()\n",
    "    new_train_ys = train_ys.copy()\n",
    "    for i in range(int(t)):\n",
    "        for p_x, p_y in zip(extra_primitive_xs, extra_primitive_ys):\n",
    "            new_p_x = p_x + '_{}'.format(i)\n",
    "            new_train_xs += [extra_primitive_x.format(new_p_x).split()] * OVER_SAMPLING\n",
    "            new_train_ys += [extra_primitive_y.format(p_y).split()] * OVER_SAMPLING\n",
    "    train_dict['xs'] = new_train_xs\n",
    "    train_dict['ys'] = new_train_ys\n",
    "    data_dict[t] = train_dict"
   ]
  },
  {
   "cell_type": "code",
   "execution_count": 63,
   "id": "815a9dd6",
   "metadata": {},
   "outputs": [
    {
     "name": "stdout",
     "output_type": "stream",
     "text": [
      "test 77060\n",
      "0 20906\n",
      "5 20911\n",
      "10 20916\n"
     ]
    }
   ],
   "source": [
    "for k in data_dict.keys():\n",
    "    print(k, len(data_dict[k]['xs']))"
   ]
  },
  {
   "cell_type": "code",
   "execution_count": 64,
   "id": "1afd4692",
   "metadata": {},
   "outputs": [
    {
     "name": "stderr",
     "output_type": "stream",
     "text": [
      "100%|██████████| 20916/20916 [00:09<00:00, 2100.64it/s]"
     ]
    },
    {
     "name": "stdout",
     "output_type": "stream",
     "text": [
      "['jump_0', 'left']\n",
      "['jump_1', 'left']\n",
      "['jump_2', 'left']\n",
      "['jump_3', 'left']\n",
      "['jump_4', 'left']\n",
      "['jump_5', 'left']\n",
      "['jump_6', 'left']\n",
      "['jump_7', 'left']\n",
      "['jump_8', 'left']\n",
      "['jump_9', 'left']\n"
     ]
    },
    {
     "name": "stderr",
     "output_type": "stream",
     "text": [
      "\n"
     ]
    }
   ],
   "source": [
    "for x in tqdm(data_dict['10']['xs']):\n",
    "    if x not in data_dict['0']['xs']:\n",
    "        print(x)"
   ]
  },
  {
   "cell_type": "code",
   "execution_count": 65,
   "id": "576629b5",
   "metadata": {},
   "outputs": [],
   "source": [
    "# save output as json\n",
    "out_path = os.path.join(EXP3, 'scan_l12')\n",
    "if not os.path.exists(out_path): os.makedirs(out_path)\n",
    "\n",
    "utils.save_json(os.path.join(out_path, 'data.json'), data_dict)\n",
    "utils.save_json(os.path.join(out_path, 'vocab.json'), vocab_dict)"
   ]
  },
  {
   "cell_type": "markdown",
   "id": "c022538d",
   "metadata": {},
   "source": [
    "### Experiment 4"
   ]
  },
  {
   "cell_type": "code",
   "execution_count": 66,
   "id": "392a6024",
   "metadata": {},
   "outputs": [],
   "source": [
    "extra_primitive_x = '{} left'\n",
    "extra_primitive_y = 'I_TURN_LEFT {}'"
   ]
  },
  {
   "cell_type": "code",
   "execution_count": 67,
   "id": "3a4c57fb",
   "metadata": {},
   "outputs": [],
   "source": [
    "# test\n",
    "new_test_xs, new_test_ys = [], []\n",
    "for i in range(MAX_NUM_PRIMITIVE):\n",
    "    for p_x, p_y in zip(extra_primitive_xs, extra_primitive_ys):\n",
    "        new_p_x = p_x + '_{}'.format(i)\n",
    "        new_test_xs.append([new_p_x])\n",
    "        new_test_ys.append([p_y])\n",
    "\n",
    "new_test_xs.append(['left'])\n",
    "new_test_ys.append(['I_TURN_LEFT'])\n",
    "\n",
    "new_test_dict = {}\n",
    "new_test_dict['xs'] = new_test_xs\n",
    "new_test_dict['ys'] = new_test_ys"
   ]
  },
  {
   "cell_type": "code",
   "execution_count": 68,
   "id": "50d0eef6",
   "metadata": {},
   "outputs": [
    {
     "data": {
      "text/plain": [
       "[['jump_0'],\n",
       " ['jump_1'],\n",
       " ['jump_2'],\n",
       " ['jump_3'],\n",
       " ['jump_4'],\n",
       " ['jump_5'],\n",
       " ['jump_6'],\n",
       " ['jump_7'],\n",
       " ['jump_8'],\n",
       " ['jump_9'],\n",
       " ['left']]"
      ]
     },
     "execution_count": 68,
     "metadata": {},
     "output_type": "execute_result"
    }
   ],
   "source": [
    "new_test_xs"
   ]
  },
  {
   "cell_type": "code",
   "execution_count": 69,
   "id": "aaa894dd",
   "metadata": {},
   "outputs": [],
   "source": [
    "data_dict = dict()\n",
    "data_dict['test'] = new_test_dict\n",
    "\n",
    "train_dict = {}\n",
    "new_train_xs = train_xs.copy()\n",
    "new_train_ys = train_ys.copy()\n",
    "\n",
    "for i in range(MAX_NUM_PRIMITIVE):\n",
    "    for p_x, p_y in zip(extra_primitive_xs, extra_primitive_ys):\n",
    "        new_p_x = p_x + '_{}'.format(i)\n",
    "        new_train_xs += [extra_primitive_x.format(new_p_x).split()] * OVER_SAMPLING\n",
    "        new_train_ys += [extra_primitive_y.format(p_y).split()] * OVER_SAMPLING\n",
    "\n",
    "new_train_xs += [[x] for x in extra_primitive_xs]\n",
    "new_train_ys += [[y] for y in extra_primitive_ys]\n",
    "\n",
    "train_dict['xs'] = new_train_xs\n",
    "train_dict['ys'] = new_train_ys\n",
    "data_dict[str(MAX_NUM_PRIMITIVE)] = train_dict"
   ]
  },
  {
   "cell_type": "code",
   "execution_count": 71,
   "id": "6a263906",
   "metadata": {},
   "outputs": [
    {
     "data": {
      "text/plain": [
       "20917"
      ]
     },
     "execution_count": 71,
     "metadata": {},
     "output_type": "execute_result"
    }
   ],
   "source": [
    "len(data_dict['10']['xs'])"
   ]
  },
  {
   "cell_type": "code",
   "execution_count": 73,
   "id": "a62854e5",
   "metadata": {},
   "outputs": [
    {
     "data": {
      "text/plain": [
       "[['turn', 'left', 'twice', 'after', 'jump'],\n",
       " ['walk', 'right', 'thrice', 'and', 'run', 'opposite', 'right', 'thrice'],\n",
       " ['jump', 'left', 'twice', 'after', 'look'],\n",
       " ['run', 'right', 'and', 'jump', 'opposite', 'left'],\n",
       " ['look', 'around', 'left', 'after', 'walk', 'around', 'left', 'thrice'],\n",
       " ['jump',\n",
       "  'around',\n",
       "  'right',\n",
       "  'thrice',\n",
       "  'after',\n",
       "  'run',\n",
       "  'opposite',\n",
       "  'right',\n",
       "  'twice'],\n",
       " ['jump', 'around', 'left', 'twice', 'and', 'run', 'left'],\n",
       " ['look', 'opposite', 'left', 'thrice', 'and', 'walk', 'thrice'],\n",
       " ['walk', 'around', 'left', 'twice', 'after', 'look', 'right', 'thrice'],\n",
       " ['jump_0', 'left'],\n",
       " ['jump_1', 'left'],\n",
       " ['jump_2', 'left'],\n",
       " ['jump_3', 'left'],\n",
       " ['jump_4', 'left'],\n",
       " ['jump_5', 'left'],\n",
       " ['jump_6', 'left'],\n",
       " ['jump_7', 'left'],\n",
       " ['jump_8', 'left'],\n",
       " ['jump_9', 'left'],\n",
       " ['jump']]"
      ]
     },
     "execution_count": 73,
     "metadata": {},
     "output_type": "execute_result"
    }
   ],
   "source": [
    "new_train_xs[-20:]"
   ]
  },
  {
   "cell_type": "code",
   "execution_count": 74,
   "id": "ed25340f",
   "metadata": {},
   "outputs": [],
   "source": [
    "# save output as json\n",
    "out_path = os.path.join(EXP4, 'scan_l12')\n",
    "if not os.path.exists(out_path): os.makedirs(out_path)\n",
    "\n",
    "utils.save_json(os.path.join(out_path, 'data.json'), data_dict)\n",
    "utils.save_json(os.path.join(out_path, 'vocab.json'), vocab_dict)"
   ]
  },
  {
   "cell_type": "markdown",
   "id": "e2f7a44b",
   "metadata": {},
   "source": [
    "## Numeber of Primitive # 1\n",
    "0, 5, 10, full"
   ]
  },
  {
   "cell_type": "code",
   "execution_count": 26,
   "id": "fb0af1f8",
   "metadata": {},
   "outputs": [],
   "source": [
    "primitives = ['run', 'jump', 'look', 'walk']\n",
    "primitives = ['run', 'jump']\n"
   ]
  },
  {
   "cell_type": "code",
   "execution_count": 27,
   "id": "121a3c99",
   "metadata": {},
   "outputs": [
    {
     "name": "stdout",
     "output_type": "stream",
     "text": [
      "4274\n",
      "4274\n"
     ]
    }
   ],
   "source": [
    "scan_raw_l1_xs = np.array(scan_raw_xs, dtype=object)[scan_l1_idxes].tolist()\n",
    "scan_raw_l1_ys = np.array(scan_raw_ys, dtype=object)[scan_l1_idxes].tolist()\n",
    "print(len(scan_raw_l1_xs))\n",
    "print(len(scan_raw_l1_ys))"
   ]
  },
  {
   "cell_type": "code",
   "execution_count": 28,
   "id": "b22f3094",
   "metadata": {},
   "outputs": [
    {
     "data": {
      "text/plain": [
       "2"
      ]
     },
     "execution_count": 28,
     "metadata": {},
     "output_type": "execute_result"
    }
   ],
   "source": [
    "scan_raw_l1_src_lens = [len(x) for x in scan_raw_l1_xs]\n",
    "min(scan_raw_l1_src_lens)"
   ]
  },
  {
   "cell_type": "code",
   "execution_count": 29,
   "id": "59e0b6b7",
   "metadata": {},
   "outputs": [
    {
     "name": "stdout",
     "output_type": "stream",
     "text": [
      "look opposite right thrice after look around right twice\n",
      "I_TURN_RIGHT I_LOOK I_TURN_RIGHT I_LOOK I_TURN_RIGHT I_LOOK I_TURN_RIGHT I_LOOK I_TURN_RIGHT I_LOOK I_TURN_RIGHT I_LOOK I_TURN_RIGHT I_LOOK I_TURN_RIGHT I_LOOK I_TURN_RIGHT I_TURN_RIGHT I_LOOK I_TURN_RIGHT I_TURN_RIGHT I_LOOK I_TURN_RIGHT I_TURN_RIGHT I_LOOK\n"
     ]
    }
   ],
   "source": [
    "# take a look\n",
    "idx = random.choice(range(len(scan_raw_l1_ys)))\n",
    "print(' '.join(scan_raw_l1_xs[idx]))\n",
    "print(' '.join(scan_raw_l1_ys[idx]))"
   ]
  },
  {
   "cell_type": "code",
   "execution_count": 30,
   "id": "6d9b3ed2",
   "metadata": {},
   "outputs": [
    {
     "data": {
      "text/plain": [
       "10"
      ]
     },
     "execution_count": 30,
     "metadata": {},
     "output_type": "execute_result"
    }
   ],
   "source": [
    "MAX_NUM_PRIMITIVE"
   ]
  },
  {
   "cell_type": "code",
   "execution_count": 31,
   "id": "1fce8808",
   "metadata": {},
   "outputs": [
    {
     "name": "stderr",
     "output_type": "stream",
     "text": [
      "100%|██████████| 10/10 [00:00<00:00, 120.26it/s]\n"
     ]
    }
   ],
   "source": [
    "scan_l1_xs = scan_raw_l1_xs.copy()\n",
    "scan_l1_ys = scan_raw_l1_ys.copy()\n",
    "\n",
    "for n in trange(MAX_NUM_PRIMITIVE):\n",
    "    for p in primitives:\n",
    "        new_p = p + '_{}'.format(n)\n",
    "        for x, y in zip(scan_raw_l1_xs, scan_raw_l1_ys):\n",
    "            if p in x:\n",
    "                new_x = ' '.join(x).replace(p, new_p).split()\n",
    "                scan_l1_xs.append(new_x)\n",
    "                scan_l1_ys.append(y)"
   ]
  },
  {
   "cell_type": "code",
   "execution_count": 32,
   "id": "43ba826b",
   "metadata": {},
   "outputs": [
    {
     "name": "stdout",
     "output_type": "stream",
     "text": [
      "22314\n",
      "22314\n"
     ]
    }
   ],
   "source": [
    "print(len(scan_l1_xs))\n",
    "print(len(scan_l1_ys))"
   ]
  },
  {
   "cell_type": "code",
   "execution_count": 33,
   "id": "862fbcc9",
   "metadata": {},
   "outputs": [],
   "source": [
    "# source vocabulary\n",
    "scan_src_counter = Counter()\n",
    "for x in scan_l1_xs:\n",
    "    scan_src_counter.update(x)"
   ]
  },
  {
   "cell_type": "code",
   "execution_count": 34,
   "id": "02dcb664",
   "metadata": {},
   "outputs": [
    {
     "name": "stdout",
     "output_type": "stream",
     "text": [
      "34\n"
     ]
    }
   ],
   "source": [
    "# soruce vocabulary dictionary\n",
    "src_vocab2idx_dict = dict()\n",
    "src_vocab2idx_dict['<pad>'] = 0 # to pad sequence length\n",
    "\n",
    "i = len(src_vocab2idx_dict)\n",
    "for token in scan_src_counter:\n",
    "    src_vocab2idx_dict[token] = i\n",
    "    i += 1\n",
    "\n",
    "print(len(src_vocab2idx_dict))"
   ]
  },
  {
   "cell_type": "code",
   "execution_count": 35,
   "id": "a1ab1c0a",
   "metadata": {},
   "outputs": [],
   "source": [
    "# target vocabulary\n",
    "scan_tgt_counter = Counter()\n",
    "for y in scan_l1_ys:\n",
    "    scan_tgt_counter.update(y)"
   ]
  },
  {
   "cell_type": "code",
   "execution_count": 36,
   "id": "879f03fd",
   "metadata": {},
   "outputs": [
    {
     "name": "stdout",
     "output_type": "stream",
     "text": [
      "9\n"
     ]
    }
   ],
   "source": [
    "# target vocabulary dictionary\n",
    "tgt_vocab2idx_dict = dict()\n",
    "tgt_vocab2idx_dict['<pad>'] = 0 # to pad sequence length\n",
    "tgt_vocab2idx_dict['<s>'] = 1 # to mark the start of a sequence\n",
    "tgt_vocab2idx_dict['</s>'] = 2 # to mark the end of a sequence\n",
    "\n",
    "i = len(tgt_vocab2idx_dict)\n",
    "for token in scan_tgt_counter:\n",
    "    tgt_vocab2idx_dict[token] = i\n",
    "    i += 1\n",
    "\n",
    "print(len(tgt_vocab2idx_dict))"
   ]
  },
  {
   "cell_type": "code",
   "execution_count": 37,
   "id": "8a32891d",
   "metadata": {},
   "outputs": [
    {
     "data": {
      "text/plain": [
       "{'<pad>': 0,\n",
       " '<s>': 1,\n",
       " '</s>': 2,\n",
       " 'I_TURN_RIGHT': 3,\n",
       " 'I_LOOK': 4,\n",
       " 'I_TURN_LEFT': 5,\n",
       " 'I_RUN': 6,\n",
       " 'I_WALK': 7,\n",
       " 'I_JUMP': 8}"
      ]
     },
     "execution_count": 37,
     "metadata": {},
     "output_type": "execute_result"
    }
   ],
   "source": [
    "tgt_vocab2idx_dict"
   ]
  },
  {
   "cell_type": "code",
   "execution_count": 38,
   "id": "d1cb45b9",
   "metadata": {},
   "outputs": [],
   "source": [
    "vocab_dict = dict()\n",
    "vocab_dict['src'] = src_vocab2idx_dict\n",
    "vocab_dict['tgt'] = tgt_vocab2idx_dict"
   ]
  },
  {
   "cell_type": "markdown",
   "id": "4d1fe33f",
   "metadata": {},
   "source": [
    "###  Train Test Split"
   ]
  },
  {
   "cell_type": "code",
   "execution_count": 39,
   "id": "ed8466ff",
   "metadata": {},
   "outputs": [],
   "source": [
    "extra_primitive_xs = ['run', 'jump', 'look', 'walk']\n",
    "extra_primitive_ys = ['I_RUN', 'I_JUMP', 'I_LOOK', 'I_WALK']\n",
    "extra_primitive_xs = extra_primitive_xs[:2]\n",
    "extra_primitive_ys = extra_primitive_ys[:2]"
   ]
  },
  {
   "cell_type": "code",
   "execution_count": 41,
   "id": "e18653f0",
   "metadata": {},
   "outputs": [
    {
     "data": {
      "text/plain": [
       "['I_RUN', 'I_JUMP']"
      ]
     },
     "execution_count": 41,
     "metadata": {},
     "output_type": "execute_result"
    }
   ],
   "source": [
    "extra_primitive_ys"
   ]
  },
  {
   "cell_type": "code",
   "execution_count": 114,
   "id": "e9a26750",
   "metadata": {},
   "outputs": [],
   "source": [
    "new_primitives = [p + '_{}'.format(i) for i in range(MAX_NUM_PRIMITIVE) for p in extra_primitive_xs]"
   ]
  },
  {
   "cell_type": "code",
   "execution_count": 115,
   "id": "66b00396",
   "metadata": {},
   "outputs": [
    {
     "data": {
      "text/plain": [
       "['run_0',\n",
       " 'jump_0',\n",
       " 'look_0',\n",
       " 'walk_0',\n",
       " 'run_1',\n",
       " 'jump_1',\n",
       " 'look_1',\n",
       " 'walk_1',\n",
       " 'run_2',\n",
       " 'jump_2',\n",
       " 'look_2',\n",
       " 'walk_2',\n",
       " 'run_3',\n",
       " 'jump_3',\n",
       " 'look_3',\n",
       " 'walk_3',\n",
       " 'run_4',\n",
       " 'jump_4',\n",
       " 'look_4',\n",
       " 'walk_4',\n",
       " 'run_5',\n",
       " 'jump_5',\n",
       " 'look_5',\n",
       " 'walk_5',\n",
       " 'run_6',\n",
       " 'jump_6',\n",
       " 'look_6',\n",
       " 'walk_6',\n",
       " 'run_7',\n",
       " 'jump_7',\n",
       " 'look_7',\n",
       " 'walk_7',\n",
       " 'run_8',\n",
       " 'jump_8',\n",
       " 'look_8',\n",
       " 'walk_8',\n",
       " 'run_9',\n",
       " 'jump_9',\n",
       " 'look_9',\n",
       " 'walk_9']"
      ]
     },
     "execution_count": 115,
     "metadata": {},
     "output_type": "execute_result"
    }
   ],
   "source": [
    "new_primitives"
   ]
  },
  {
   "cell_type": "code",
   "execution_count": 116,
   "id": "800f3e89",
   "metadata": {},
   "outputs": [],
   "source": [
    "train_idxes = []\n",
    "test_idxes = []\n",
    "for i, x in enumerate(scan_l1_xs):\n",
    "    if set(new_primitives) & set(x):\n",
    "        test_idxes.append(i)\n",
    "    else:\n",
    "        train_idxes.append(i)"
   ]
  },
  {
   "cell_type": "code",
   "execution_count": 117,
   "id": "edf4f315",
   "metadata": {},
   "outputs": [
    {
     "data": {
      "text/plain": [
       "(4274, 36080)"
      ]
     },
     "execution_count": 117,
     "metadata": {},
     "output_type": "execute_result"
    }
   ],
   "source": [
    "(len(train_idxes), len(test_idxes))"
   ]
  },
  {
   "cell_type": "code",
   "execution_count": 118,
   "id": "4263be96",
   "metadata": {},
   "outputs": [
    {
     "name": "stdout",
     "output_type": "stream",
     "text": [
      "4274\n",
      "4274\n"
     ]
    }
   ],
   "source": [
    "train_xs = np.array(scan_l1_xs, dtype=object)[train_idxes].tolist()\n",
    "train_ys = np.array(scan_l1_ys, dtype=object)[train_idxes].tolist()\n",
    "print(len(train_xs))\n",
    "print(len(train_ys))"
   ]
  },
  {
   "cell_type": "code",
   "execution_count": 119,
   "id": "a87f2b7c",
   "metadata": {},
   "outputs": [
    {
     "name": "stdout",
     "output_type": "stream",
     "text": [
      "36080\n",
      "36080\n"
     ]
    }
   ],
   "source": [
    "test_xs = np.array(scan_l1_xs, dtype=object)[test_idxes].tolist()\n",
    "test_ys = np.array(scan_l1_ys, dtype=object)[test_idxes].tolist()\n",
    "print(len(test_xs))\n",
    "print(len(test_ys))"
   ]
  },
  {
   "cell_type": "code",
   "execution_count": 120,
   "id": "c7067c3d",
   "metadata": {},
   "outputs": [],
   "source": [
    "test_dict = {}\n",
    "test_dict['xs'] = test_xs\n",
    "test_dict['ys'] = test_ys"
   ]
  },
  {
   "cell_type": "markdown",
   "id": "fcac1a15",
   "metadata": {},
   "source": [
    "### Experiment 1"
   ]
  },
  {
   "cell_type": "code",
   "execution_count": 121,
   "id": "c51282e4",
   "metadata": {},
   "outputs": [],
   "source": [
    "data_dict = dict()\n",
    "data_dict['test'] = test_dict\n",
    "\n",
    "for t in ['0', '5', '10']:\n",
    "    train_dict = {}\n",
    "    new_train_xs = train_xs.copy()\n",
    "    new_train_ys = train_ys.copy()\n",
    "    for i in range(int(t)):\n",
    "        for p_x, p_y in zip(extra_primitive_xs, extra_primitive_ys):\n",
    "            new_p_x = p_x + '_{}'.format(i)\n",
    "            new_train_xs += [[new_p_x]] * OVER_SAMPLING\n",
    "            new_train_ys += [[p_y]] * OVER_SAMPLING\n",
    "    new_train_xs += [[x] for x in extra_primitive_xs]\n",
    "    new_train_ys += [[y] for y in extra_primitive_ys]\n",
    "    train_dict['xs'] = new_train_xs\n",
    "    train_dict['ys'] = new_train_ys\n",
    "    data_dict[t] = train_dict"
   ]
  },
  {
   "cell_type": "code",
   "execution_count": 122,
   "id": "59d2c824",
   "metadata": {},
   "outputs": [
    {
     "name": "stdout",
     "output_type": "stream",
     "text": [
      "test 36080\n",
      "0 4278\n",
      "5 6838\n",
      "10 9398\n"
     ]
    }
   ],
   "source": [
    "for k in data_dict.keys():\n",
    "    print(k, len(data_dict[k]['xs']))"
   ]
  },
  {
   "cell_type": "code",
   "execution_count": 123,
   "id": "347b9a7d",
   "metadata": {},
   "outputs": [
    {
     "data": {
      "text/plain": [
       "{'jump_0',\n",
       " 'jump_1',\n",
       " 'jump_2',\n",
       " 'jump_3',\n",
       " 'jump_4',\n",
       " 'jump_5',\n",
       " 'jump_6',\n",
       " 'jump_7',\n",
       " 'jump_8',\n",
       " 'jump_9',\n",
       " 'look_0',\n",
       " 'look_1',\n",
       " 'look_2',\n",
       " 'look_3',\n",
       " 'look_4',\n",
       " 'look_5',\n",
       " 'look_6',\n",
       " 'look_7',\n",
       " 'look_8',\n",
       " 'look_9',\n",
       " 'run_0',\n",
       " 'run_1',\n",
       " 'run_2',\n",
       " 'run_3',\n",
       " 'run_4',\n",
       " 'run_5',\n",
       " 'run_6',\n",
       " 'run_7',\n",
       " 'run_8',\n",
       " 'run_9',\n",
       " 'walk_0',\n",
       " 'walk_1',\n",
       " 'walk_2',\n",
       " 'walk_3',\n",
       " 'walk_4',\n",
       " 'walk_5',\n",
       " 'walk_6',\n",
       " 'walk_7',\n",
       " 'walk_8',\n",
       " 'walk_9'}"
      ]
     },
     "execution_count": 123,
     "metadata": {},
     "output_type": "execute_result"
    }
   ],
   "source": [
    "# for x in data_dict['10']['xs']:\n",
    "#     if x not in data_dict['0']['xs']:\n",
    "#         print(x)\n",
    "set([' '.join(x) for x in data_dict['10']['xs'] if x not in data_dict['0']['xs']])"
   ]
  },
  {
   "cell_type": "code",
   "execution_count": 124,
   "id": "c31c3ec7",
   "metadata": {},
   "outputs": [],
   "source": [
    "# for x in data_dict['10']['xs']:\n",
    "#     if len(x) == 1:\n",
    "#         print(x)"
   ]
  },
  {
   "cell_type": "code",
   "execution_count": 125,
   "id": "5e5e57b7",
   "metadata": {},
   "outputs": [],
   "source": [
    "# save output as json\n",
    "out_path = os.path.join(EXP1, 'scan_l1')\n",
    "if not os.path.exists(out_path): os.makedirs(out_path)\n",
    "\n",
    "utils.save_json(os.path.join(out_path, 'data.json'), data_dict)\n",
    "utils.save_json(os.path.join(out_path, 'vocab.json'), vocab_dict)"
   ]
  },
  {
   "cell_type": "markdown",
   "id": "0c581b05",
   "metadata": {},
   "source": [
    "#### Data Exploration"
   ]
  },
  {
   "cell_type": "code",
   "execution_count": 126,
   "id": "7974e631",
   "metadata": {},
   "outputs": [
    {
     "name": "stdout",
     "output_type": "stream",
     "text": [
      "[('right', 3717), ('left', 3717), ('thrice', 2818), ('twice', 2818), ('opposite', 2478), ('around', 2478), ('and', 2088), ('after', 2088), ('look', 1785), ('run', 1785), ('walk', 1785), ('jump', 1785), ('turn', 1314), ('run_0', 1), ('jump_0', 1), ('look_0', 1), ('walk_0', 1), ('run_1', 1), ('jump_1', 1), ('look_1', 1), ('walk_1', 1), ('run_2', 1), ('jump_2', 1), ('look_2', 1), ('walk_2', 1), ('run_3', 1), ('jump_3', 1), ('look_3', 1), ('walk_3', 1), ('run_4', 1), ('jump_4', 1), ('look_4', 1), ('walk_4', 1), ('run_5', 1), ('jump_5', 1), ('look_5', 1), ('walk_5', 1), ('run_6', 1), ('jump_6', 1), ('look_6', 1), ('walk_6', 1), ('run_7', 1), ('jump_7', 1), ('look_7', 1), ('walk_7', 1), ('run_8', 1), ('jump_8', 1), ('look_8', 1), ('walk_8', 1), ('run_9', 1), ('jump_9', 1), ('look_9', 1), ('walk_9', 1)]\n"
     ]
    }
   ],
   "source": [
    "# source vocab\n",
    "c = Counter()\n",
    "for x in data_dict['10']['xs']:\n",
    "    c.update(x)\n",
    "print(c.most_common())"
   ]
  },
  {
   "cell_type": "code",
   "execution_count": 127,
   "id": "90778359",
   "metadata": {},
   "outputs": [],
   "source": [
    "run_x = [x for x in data_dict['10']['xs'] if 'run' in ''.join(x)]\n",
    "jump_x = [x for x in data_dict['10']['xs'] if 'jump' in ''.join(x)]"
   ]
  },
  {
   "cell_type": "code",
   "execution_count": 128,
   "id": "5f94fc59",
   "metadata": {},
   "outputs": [
    {
     "data": {
      "text/plain": [
       "913"
      ]
     },
     "execution_count": 128,
     "metadata": {},
     "output_type": "execute_result"
    }
   ],
   "source": [
    "len(run_x)"
   ]
  },
  {
   "cell_type": "code",
   "execution_count": 129,
   "id": "c34c5db2",
   "metadata": {},
   "outputs": [
    {
     "data": {
      "text/plain": [
       "913"
      ]
     },
     "execution_count": 129,
     "metadata": {},
     "output_type": "execute_result"
    }
   ],
   "source": [
    "len(jump_x)"
   ]
  },
  {
   "cell_type": "code",
   "execution_count": 130,
   "id": "a1787f2b",
   "metadata": {},
   "outputs": [],
   "source": [
    "for i in range(913):\n",
    "    run_x[i] = [tk for tk in run_x[i] if 'run' not in tk]\n",
    "    jump_x[i] = [tk for tk in jump_x[i] if 'jump' not in tk]"
   ]
  },
  {
   "cell_type": "code",
   "execution_count": 132,
   "id": "c327ade3",
   "metadata": {},
   "outputs": [],
   "source": [
    "run_x = [' '.join(x) for x in run_x]\n",
    "jump_x = [' '.join(x) for x in jump_x]"
   ]
  },
  {
   "cell_type": "code",
   "execution_count": null,
   "id": "b0dd6017",
   "metadata": {},
   "outputs": [],
   "source": [
    "run_x = "
   ]
  },
  {
   "cell_type": "code",
   "execution_count": 133,
   "id": "470971dd",
   "metadata": {},
   "outputs": [
    {
     "data": {
      "text/plain": [
       "set()"
      ]
     },
     "execution_count": 133,
     "metadata": {},
     "output_type": "execute_result"
    }
   ],
   "source": [
    "set(run_x) - set(jump_x)"
   ]
  },
  {
   "cell_type": "code",
   "execution_count": 76,
   "id": "982585ba",
   "metadata": {},
   "outputs": [
    {
     "name": "stdout",
     "output_type": "stream",
     "text": [
      "[(8, 1280), (7, 1216), (6, 704), (9, 640), (5, 264), (4, 104), (3, 48), (1, 44), (2, 18)]\n"
     ]
    }
   ],
   "source": [
    "# source length\n",
    "x_lens = [len(x) for x in data_dict['10']['xs']]\n",
    "c = Counter()\n",
    "c.update(x_lens)\n",
    "print(c.most_common())"
   ]
  },
  {
   "cell_type": "code",
   "execution_count": 77,
   "id": "04e417b0",
   "metadata": {},
   "outputs": [
    {
     "name": "stdout",
     "output_type": "stream",
     "text": [
      "['run_0']\n",
      "['jump_0']\n",
      "['look_0']\n",
      "['walk_0']\n",
      "['run_1']\n",
      "['jump_1']\n",
      "['look_1']\n",
      "['walk_1']\n",
      "['run_2']\n",
      "['jump_2']\n",
      "['look_2']\n",
      "['walk_2']\n",
      "['run_3']\n",
      "['jump_3']\n",
      "['look_3']\n",
      "['walk_3']\n",
      "['run_4']\n",
      "['jump_4']\n",
      "['look_4']\n",
      "['walk_4']\n",
      "['run_5']\n",
      "['jump_5']\n",
      "['look_5']\n",
      "['walk_5']\n",
      "['run_6']\n",
      "['jump_6']\n",
      "['look_6']\n",
      "['walk_6']\n",
      "['run_7']\n",
      "['jump_7']\n",
      "['look_7']\n",
      "['walk_7']\n",
      "['run_8']\n",
      "['jump_8']\n",
      "['look_8']\n",
      "['walk_8']\n",
      "['run_9']\n",
      "['jump_9']\n",
      "['look_9']\n",
      "['walk_9']\n",
      "['run']\n",
      "['jump']\n",
      "['look']\n",
      "['walk']\n"
     ]
    }
   ],
   "source": [
    "for x in data_dict['10']['xs']:\n",
    "    if len(x) == 1:\n",
    "        print(x)"
   ]
  },
  {
   "cell_type": "markdown",
   "id": "af11adc8",
   "metadata": {},
   "source": [
    "### Experiment 2\n",
    "The same as Experiment 3 in Brenden Lake 2018 ICML"
   ]
  },
  {
   "cell_type": "code",
   "execution_count": 42,
   "id": "306395bf",
   "metadata": {},
   "outputs": [],
   "source": [
    "data_dict = dict()\n",
    "data_dict['test'] = test_dict\n",
    "\n",
    "for t in ['0', '5', '10']:\n",
    "    train_dict = {}\n",
    "    new_train_xs = train_xs.copy()\n",
    "    new_train_ys = train_ys.copy()\n",
    "    for i in range(int(t)):\n",
    "        for p_x, p_y in zip(extra_primitive_xs, extra_primitive_ys):\n",
    "            new_p_x = p_x + '_{}'.format(i)\n",
    "            new_train_xs.append([new_p_x])\n",
    "            new_train_ys.append([p_y])\n",
    "    train_dict['xs'] = new_train_xs\n",
    "    train_dict['ys'] = new_train_ys\n",
    "    data_dict[t] = train_dict"
   ]
  },
  {
   "cell_type": "code",
   "execution_count": 43,
   "id": "4d8f3921",
   "metadata": {},
   "outputs": [
    {
     "name": "stdout",
     "output_type": "stream",
     "text": [
      "test 36080\n",
      "0 4274\n",
      "5 4294\n",
      "10 4314\n"
     ]
    }
   ],
   "source": [
    "for k in data_dict.keys():\n",
    "    print(k, len(data_dict[k]['xs']))"
   ]
  },
  {
   "cell_type": "code",
   "execution_count": 44,
   "id": "0fc7889d",
   "metadata": {},
   "outputs": [
    {
     "name": "stdout",
     "output_type": "stream",
     "text": [
      "['run_0']\n",
      "['jump_0']\n",
      "['look_0']\n",
      "['walk_0']\n",
      "['run_1']\n",
      "['jump_1']\n",
      "['look_1']\n",
      "['walk_1']\n",
      "['run_2']\n",
      "['jump_2']\n",
      "['look_2']\n",
      "['walk_2']\n",
      "['run_3']\n",
      "['jump_3']\n",
      "['look_3']\n",
      "['walk_3']\n",
      "['run_4']\n",
      "['jump_4']\n",
      "['look_4']\n",
      "['walk_4']\n"
     ]
    }
   ],
   "source": [
    "for x in data_dict['5']['xs']:\n",
    "    if x not in data_dict['0']['xs']:\n",
    "        print(x)"
   ]
  },
  {
   "cell_type": "code",
   "execution_count": 45,
   "id": "30756432",
   "metadata": {},
   "outputs": [],
   "source": [
    "# save output as json\n",
    "out_path = os.path.join(EXP2, 'scan_l1')\n",
    "if not os.path.exists(out_path): os.makedirs(out_path)\n",
    "\n",
    "utils.save_json(os.path.join(out_path, 'data.json'), data_dict)\n",
    "utils.save_json(os.path.join(out_path, 'vocab.json'), vocab_dict)"
   ]
  },
  {
   "cell_type": "markdown",
   "id": "491b5699",
   "metadata": {},
   "source": [
    "### Experiment 3"
   ]
  },
  {
   "cell_type": "code",
   "execution_count": 46,
   "id": "25946b92",
   "metadata": {},
   "outputs": [],
   "source": [
    "extra_primitive_x = '{} left'\n",
    "extra_primitive_y = 'I_TURN_LEFT {}'"
   ]
  },
  {
   "cell_type": "code",
   "execution_count": 47,
   "id": "905ff9ff",
   "metadata": {},
   "outputs": [],
   "source": [
    "data_dict = dict()\n",
    "data_dict['test'] = test_dict\n",
    "\n",
    "for t in ['0', '5', '10']:\n",
    "    train_dict = {}\n",
    "    new_train_xs = train_xs.copy()\n",
    "    new_train_ys = train_ys.copy()\n",
    "    for i in range(int(t)):\n",
    "        for p_x, p_y in zip(extra_primitive_xs, extra_primitive_ys):\n",
    "            new_p_x = p_x + '_{}'.format(i)\n",
    "            new_train_xs.append(extra_primitive_x.format(new_p_x).split())\n",
    "            new_train_ys.append(extra_primitive_y.format(p_y).split())\n",
    "    train_dict['xs'] = new_train_xs\n",
    "    train_dict['ys'] = new_train_ys\n",
    "    data_dict[t] = train_dict"
   ]
  },
  {
   "cell_type": "code",
   "execution_count": 48,
   "id": "7c57202b",
   "metadata": {},
   "outputs": [
    {
     "name": "stdout",
     "output_type": "stream",
     "text": [
      "test 36080\n",
      "0 4274\n",
      "5 4294\n",
      "10 4314\n"
     ]
    }
   ],
   "source": [
    "for k in data_dict.keys():\n",
    "    print(k, len(data_dict[k]['xs']))"
   ]
  },
  {
   "cell_type": "code",
   "execution_count": 49,
   "id": "9499100a",
   "metadata": {},
   "outputs": [
    {
     "name": "stdout",
     "output_type": "stream",
     "text": [
      "['run_0', 'left']\n",
      "['jump_0', 'left']\n",
      "['look_0', 'left']\n",
      "['walk_0', 'left']\n",
      "['run_1', 'left']\n",
      "['jump_1', 'left']\n",
      "['look_1', 'left']\n",
      "['walk_1', 'left']\n",
      "['run_2', 'left']\n",
      "['jump_2', 'left']\n",
      "['look_2', 'left']\n",
      "['walk_2', 'left']\n",
      "['run_3', 'left']\n",
      "['jump_3', 'left']\n",
      "['look_3', 'left']\n",
      "['walk_3', 'left']\n",
      "['run_4', 'left']\n",
      "['jump_4', 'left']\n",
      "['look_4', 'left']\n",
      "['walk_4', 'left']\n"
     ]
    }
   ],
   "source": [
    "for x in data_dict['5']['xs']:\n",
    "    if x not in data_dict['0']['xs']:\n",
    "        print(x)"
   ]
  },
  {
   "cell_type": "code",
   "execution_count": 50,
   "id": "b23c2fd4",
   "metadata": {},
   "outputs": [],
   "source": [
    "# save output as json\n",
    "out_path = os.path.join(EXP3, 'scan_l1')\n",
    "if not os.path.exists(out_path): os.makedirs(out_path)\n",
    "\n",
    "utils.save_json(os.path.join(out_path, 'data.json'), data_dict)\n",
    "utils.save_json(os.path.join(out_path, 'vocab.json'), vocab_dict)"
   ]
  },
  {
   "cell_type": "markdown",
   "id": "dfade128",
   "metadata": {},
   "source": [
    "### Experiment 4"
   ]
  },
  {
   "cell_type": "code",
   "execution_count": 37,
   "id": "4a5d600b",
   "metadata": {},
   "outputs": [],
   "source": [
    "extra_primitive_x = '{} left'\n",
    "extra_primitive_y = 'I_TURN_LEFT {}'"
   ]
  },
  {
   "cell_type": "code",
   "execution_count": 38,
   "id": "f972043e",
   "metadata": {},
   "outputs": [],
   "source": [
    "# test\n",
    "new_test_xs, new_test_ys = [], []\n",
    "for i in range(MAX_NUM_PRIMITIVE):\n",
    "    for p_x, p_y in zip(extra_primitive_xs, extra_primitive_ys):\n",
    "        new_p_x = p_x + '_{}'.format(i)\n",
    "        new_test_xs.append([new_p_x])\n",
    "        new_test_ys.append([p_y])\n",
    "\n",
    "new_test_xs.append(['left'])\n",
    "new_test_ys.append(['I_TURN_LEFT'])\n",
    "\n",
    "new_test_dict = {}\n",
    "new_test_dict['xs'] = new_test_xs\n",
    "new_test_dict['ys'] = new_test_ys"
   ]
  },
  {
   "cell_type": "code",
   "execution_count": 60,
   "id": "8e64eec0",
   "metadata": {},
   "outputs": [
    {
     "data": {
      "text/plain": [
       "[['run_0'],\n",
       " ['jump_0'],\n",
       " ['look_0'],\n",
       " ['walk_0'],\n",
       " ['run_1'],\n",
       " ['jump_1'],\n",
       " ['look_1'],\n",
       " ['walk_1'],\n",
       " ['run_2'],\n",
       " ['jump_2'],\n",
       " ['look_2'],\n",
       " ['walk_2'],\n",
       " ['run_3'],\n",
       " ['jump_3'],\n",
       " ['look_3'],\n",
       " ['walk_3'],\n",
       " ['run_4'],\n",
       " ['jump_4'],\n",
       " ['look_4'],\n",
       " ['walk_4'],\n",
       " ['run_5'],\n",
       " ['jump_5'],\n",
       " ['look_5'],\n",
       " ['walk_5'],\n",
       " ['run_6'],\n",
       " ['jump_6'],\n",
       " ['look_6'],\n",
       " ['walk_6'],\n",
       " ['run_7'],\n",
       " ['jump_7'],\n",
       " ['look_7'],\n",
       " ['walk_7'],\n",
       " ['run_8'],\n",
       " ['jump_8'],\n",
       " ['look_8'],\n",
       " ['walk_8'],\n",
       " ['run_9'],\n",
       " ['jump_9'],\n",
       " ['look_9'],\n",
       " ['walk_9'],\n",
       " ['left']]"
      ]
     },
     "execution_count": 60,
     "metadata": {},
     "output_type": "execute_result"
    }
   ],
   "source": [
    "new_test_xs"
   ]
  },
  {
   "cell_type": "code",
   "execution_count": 57,
   "id": "326d4b19",
   "metadata": {},
   "outputs": [],
   "source": [
    "data_dict = dict()\n",
    "data_dict['test'] = new_test_dict\n",
    "\n",
    "train_dict = {}\n",
    "new_train_xs = train_xs.copy()\n",
    "new_train_ys = train_ys.copy()\n",
    "\n",
    "for i in range(MAX_NUM_PRIMITIVE):\n",
    "    for p_x, p_y in zip(extra_primitive_xs, extra_primitive_ys):\n",
    "        new_p_x = p_x + '_{}'.format(i)\n",
    "        new_train_xs.append(extra_primitive_x.format(new_p_x).split())\n",
    "        new_train_ys.append(extra_primitive_y.format(p_y).split())\n",
    "\n",
    "new_train_xs += [[x] for x in extra_primitive_xs]\n",
    "new_train_ys += [[y] for y in extra_primitive_ys]\n",
    "\n",
    "train_dict['xs'] = new_train_xs\n",
    "train_dict['ys'] = new_train_ys\n",
    "data_dict[str(MAX_NUM_PRIMITIVE)] = train_dict"
   ]
  },
  {
   "cell_type": "code",
   "execution_count": 58,
   "id": "febc11d4",
   "metadata": {},
   "outputs": [
    {
     "name": "stdout",
     "output_type": "stream",
     "text": [
      "test 41\n",
      "10 4318\n"
     ]
    }
   ],
   "source": [
    "for k in data_dict.keys():\n",
    "    print(k, len(data_dict[k]['xs']))"
   ]
  },
  {
   "cell_type": "code",
   "execution_count": 59,
   "id": "3ce1b37a",
   "metadata": {},
   "outputs": [
    {
     "name": "stdout",
     "output_type": "stream",
     "text": [
      "['run_0', 'left']\n",
      "['jump_0', 'left']\n",
      "['look_0', 'left']\n",
      "['walk_0', 'left']\n",
      "['run_1', 'left']\n",
      "['jump_1', 'left']\n",
      "['look_1', 'left']\n",
      "['walk_1', 'left']\n",
      "['run_2', 'left']\n",
      "['jump_2', 'left']\n",
      "['look_2', 'left']\n",
      "['walk_2', 'left']\n",
      "['run_3', 'left']\n",
      "['jump_3', 'left']\n",
      "['look_3', 'left']\n",
      "['walk_3', 'left']\n",
      "['run_4', 'left']\n",
      "['jump_4', 'left']\n",
      "['look_4', 'left']\n",
      "['walk_4', 'left']\n",
      "['run_5', 'left']\n",
      "['jump_5', 'left']\n",
      "['look_5', 'left']\n",
      "['walk_5', 'left']\n",
      "['run_6', 'left']\n",
      "['jump_6', 'left']\n",
      "['look_6', 'left']\n",
      "['walk_6', 'left']\n",
      "['run_7', 'left']\n",
      "['jump_7', 'left']\n",
      "['look_7', 'left']\n",
      "['walk_7', 'left']\n",
      "['run_8', 'left']\n",
      "['jump_8', 'left']\n",
      "['look_8', 'left']\n",
      "['walk_8', 'left']\n",
      "['run_9', 'left']\n",
      "['jump_9', 'left']\n",
      "['look_9', 'left']\n",
      "['walk_9', 'left']\n",
      "['run']\n",
      "['jump']\n",
      "['look']\n",
      "['walk']\n"
     ]
    }
   ],
   "source": [
    "for x in data_dict['10']['xs']:\n",
    "    if x not in train_xs:\n",
    "        print(x)"
   ]
  },
  {
   "cell_type": "code",
   "execution_count": 55,
   "id": "08f5c46d",
   "metadata": {},
   "outputs": [
    {
     "name": "stdout",
     "output_type": "stream",
     "text": [
      "['run_9', 'left']\n",
      "['jump_9', 'left']\n",
      "['look_9', 'left']\n",
      "['walk_9', 'left']\n"
     ]
    }
   ],
   "source": [
    "for x in new_train_xs:\n",
    "    if '_' in ''.join(x):\n",
    "        print(x)"
   ]
  },
  {
   "cell_type": "code",
   "execution_count": 61,
   "id": "0382ba38",
   "metadata": {},
   "outputs": [],
   "source": [
    "# save output as json\n",
    "out_path = os.path.join(EXP4, 'scan_l1')\n",
    "if not os.path.exists(out_path): os.makedirs(out_path)\n",
    "\n",
    "utils.save_json(os.path.join(out_path, 'data.json'), data_dict)\n",
    "utils.save_json(os.path.join(out_path, 'vocab.json'), vocab_dict)"
   ]
  },
  {
   "cell_type": "markdown",
   "id": "8f3873de",
   "metadata": {},
   "source": [
    "###  Full Data"
   ]
  },
  {
   "cell_type": "code",
   "execution_count": 29,
   "id": "f4fedab9",
   "metadata": {},
   "outputs": [],
   "source": [
    "# # train test split\n",
    "# data_size = len(scan_l1_xs)\n",
    "# train_size = int(TRAIN_SIZE_RATE * data_size)\n",
    "# idx_pool = np.random.permutation(data_size)\n",
    "# idx_pools = np.split(idx_pool, [train_size, data_size])\n",
    "# train_pool = set(idx_pools[0])\n",
    "# test_pool = set(idx_pools[1])\n",
    "# print('train size:', len(train_pool), 'test size:', len(test_pool))\n",
    "# train_xs = [x for i, x in enumerate(scan_l1_xs) if i in train_pool]\n",
    "# train_ys = [y for i, y in enumerate(scan_l1_ys) if i in train_pool]\n",
    "# test_xs = [x for i, x in enumerate(scan_l1_xs) if i in test_pool]\n",
    "# test_ys = [y for i, y in enumerate(scan_l1_ys) if i in test_pool]\n",
    "# print('data_size', data_size)\n",
    "# print('train_size', len(train_xs))\n",
    "# print('test_size', len(test_ys))"
   ]
  },
  {
   "cell_type": "code",
   "execution_count": 30,
   "id": "83d0bf2a",
   "metadata": {},
   "outputs": [],
   "source": [
    "# # combine data sets to a dict\n",
    "# train_full_dict = {}\n",
    "# train_full_dict['xs'] = train_xs\n",
    "# train_full_dict['ys'] = train_ys\n",
    "\n",
    "# test_dict = {}\n",
    "# test_dict['xs'] = test_xs\n",
    "# test_dict['ys'] = test_ys\n",
    "\n",
    "# data_dict = dict()\n",
    "# data_dict['full'] = train_full_dict\n",
    "# data_dict['test'] = test_dict\n",
    "\n",
    "# vocab_dict = dict()\n",
    "# vocab_dict['src'] = src_vocab2idx_dict\n",
    "# vocab_dict['tgt'] = tgt_vocab2idx_dict"
   ]
  },
  {
   "cell_type": "markdown",
   "id": "bd2c5ee8",
   "metadata": {},
   "source": [
    "### Incremental Data"
   ]
  },
  {
   "cell_type": "code",
   "execution_count": 31,
   "id": "28ebb416",
   "metadata": {},
   "outputs": [],
   "source": [
    "# extra_primitive_x = '{} left'\n",
    "# extra_primitive_y = 'I_TURN_LEFT {}'\n",
    "# extra_primitive_xs = ['run', 'jump', 'look', 'walk']\n",
    "# extra_primitive_ys = ['I_RUN', 'I_JUMP', 'I_LOOK', 'I_WALK']"
   ]
  },
  {
   "cell_type": "code",
   "execution_count": 32,
   "id": "8ede5615",
   "metadata": {},
   "outputs": [],
   "source": [
    "# new_primitives = [p + '_{}'.format(i) for i in range(MAX_NUM_PRIMITIVE) for p in primitives]"
   ]
  },
  {
   "cell_type": "code",
   "execution_count": 33,
   "id": "343abdea",
   "metadata": {},
   "outputs": [],
   "source": [
    "# # remove all primitive commands without primitive left\n",
    "# valid_idxes = []\n",
    "# for i, x in enumerate(tqdm(train_xs)):\n",
    "#     if set(new_primitives) & set(x):\n",
    "#         continue\n",
    "#     valid_idxes.append(i)"
   ]
  },
  {
   "cell_type": "code",
   "execution_count": 34,
   "id": "3da44e60",
   "metadata": {},
   "outputs": [],
   "source": [
    "# print(len(valid_idxes))"
   ]
  },
  {
   "cell_type": "code",
   "execution_count": 35,
   "id": "adb58f3b",
   "metadata": {},
   "outputs": [],
   "source": [
    "# train_xs = np.array(train_xs, dtype=object)[valid_idxes].tolist()\n",
    "# train_ys = np.array(train_ys, dtype=object)[valid_idxes].tolist()\n",
    "# print(len(train_xs))\n",
    "# print(len(train_ys))"
   ]
  },
  {
   "cell_type": "code",
   "execution_count": 36,
   "id": "54e18e59",
   "metadata": {},
   "outputs": [],
   "source": [
    "# for t in ['0', '5', '10']:\n",
    "#     train_dict = {}\n",
    "#     new_train_xs = train_xs.copy()\n",
    "#     new_train_ys = train_ys.copy()\n",
    "#     new_test_xs = test_xs.copy()\n",
    "#     new_test_ys = test_ys.copy()\n",
    "#     for i in range(int(t)):\n",
    "#         for p_x, p_y in zip(extra_primitive_xs, extra_primitive_ys):\n",
    "#             new_p_x = p_x + '_{}'.format(i)\n",
    "#             new_train_xs.append(extra_primitive_x.format(new_p_x).split())\n",
    "#             new_train_ys.append(extra_primitive_y.format(p_y).split())\n",
    "#     train_dict['xs'] = new_train_xs\n",
    "#     train_dict['ys'] = new_train_ys\n",
    "#     data_dict[t] = train_dict"
   ]
  },
  {
   "cell_type": "code",
   "execution_count": 37,
   "id": "54f07caf",
   "metadata": {},
   "outputs": [],
   "source": [
    "# for k in data_dict.keys():\n",
    "#     print(k, len(data_dict[k]['xs']))"
   ]
  },
  {
   "cell_type": "code",
   "execution_count": 38,
   "id": "6c1be5f8",
   "metadata": {},
   "outputs": [],
   "source": [
    "# # save output as json\n",
    "# data_path = os.path.join('scan_l1', 'data.json')\n",
    "# vocab_path = os.path.join('scan_l1', 'vocab.json')\n",
    "\n",
    "# utils.save_json(data_path, data_dict)\n",
    "# utils.save_json(vocab_path, vocab_dict)"
   ]
  },
  {
   "cell_type": "markdown",
   "id": "51d8395f",
   "metadata": {},
   "source": [
    "## Numeber of Primitive # 2"
   ]
  },
  {
   "cell_type": "code",
   "execution_count": 86,
   "id": "11be56e4",
   "metadata": {},
   "outputs": [
    {
     "name": "stdout",
     "output_type": "stream",
     "text": [
      "['jump', 'around', 'right', 'thrice', 'after', 'turn', 'around', 'left', 'thrice']\n",
      "['I_TURN_LEFT', 'I_TURN_LEFT', 'I_TURN_LEFT', 'I_TURN_LEFT', 'I_TURN_LEFT', 'I_TURN_LEFT', 'I_TURN_LEFT', 'I_TURN_LEFT', 'I_TURN_LEFT', 'I_TURN_LEFT', 'I_TURN_LEFT', 'I_TURN_LEFT', 'I_TURN_RIGHT', 'I_JUMP', 'I_TURN_RIGHT', 'I_JUMP', 'I_TURN_RIGHT', 'I_JUMP', 'I_TURN_RIGHT', 'I_JUMP', 'I_TURN_RIGHT', 'I_JUMP', 'I_TURN_RIGHT', 'I_JUMP', 'I_TURN_RIGHT', 'I_JUMP', 'I_TURN_RIGHT', 'I_JUMP', 'I_TURN_RIGHT', 'I_JUMP', 'I_TURN_RIGHT', 'I_JUMP', 'I_TURN_RIGHT', 'I_JUMP', 'I_TURN_RIGHT', 'I_JUMP']\n"
     ]
    }
   ],
   "source": [
    "# take a look\n",
    "idx = random.choice(scan_l2_idxes)\n",
    "print(scan_raw_xs[idx])\n",
    "print(scan_raw_ys[idx])"
   ]
  },
  {
   "cell_type": "code",
   "execution_count": 80,
   "id": "10bcdbc5",
   "metadata": {},
   "outputs": [
    {
     "name": "stdout",
     "output_type": "stream",
     "text": [
      "128\n",
      "256\n",
      "384\n",
      "512\n",
      "640\n"
     ]
    }
   ],
   "source": [
    "a = 0\n",
    "for i in range(640):\n",
    "    a += 1\n",
    "    if not a % 128:\n",
    "        print(a)"
   ]
  },
  {
   "cell_type": "code",
   "execution_count": null,
   "id": "31c345a1",
   "metadata": {},
   "outputs": [],
   "source": []
  }
 ],
 "metadata": {
  "kernelspec": {
   "display_name": "Python 3",
   "language": "python",
   "name": "python3"
  },
  "language_info": {
   "codemirror_mode": {
    "name": "ipython",
    "version": 3
   },
   "file_extension": ".py",
   "mimetype": "text/x-python",
   "name": "python",
   "nbconvert_exporter": "python",
   "pygments_lexer": "ipython3",
   "version": "3.8.5"
  }
 },
 "nbformat": 4,
 "nbformat_minor": 5
}
